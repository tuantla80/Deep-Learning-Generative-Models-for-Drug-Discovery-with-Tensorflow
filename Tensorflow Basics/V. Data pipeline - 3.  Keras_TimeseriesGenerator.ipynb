{
  "nbformat": 4,
  "nbformat_minor": 0,
  "metadata": {
    "kernelspec": {
      "display_name": "Python 3",
      "language": "python",
      "name": "python3"
    },
    "language_info": {
      "codemirror_mode": {
        "name": "ipython",
        "version": 3
      },
      "file_extension": ".py",
      "mimetype": "text/x-python",
      "name": "python",
      "nbconvert_exporter": "python",
      "pygments_lexer": "ipython3",
      "version": "3.7.1"
    },
    "colab": {
      "name": "Keras TimeseriesGenerator.ipynb",
      "provenance": [],
      "collapsed_sections": [
        "nYP_g2j8zyiD",
        "hQgMUCV8zyiV",
        "BSwk6tsVzyiz",
        "4Faruq_jzyjF",
        "DVuHRM1ezyjV",
        "jl4-bLRPzyjr",
        "ciYcKFhLzyj5",
        "OXvIx0UtzykF"
      ]
    }
  },
  "cells": [
    {
      "cell_type": "markdown",
      "metadata": {
        "id": "GQf55IdEzyg6"
      },
      "source": [
        "# Keras TimeseriesGenerator\n",
        "\n",
        "In this reading we'll be looking at the `TimeseriesGenerator`, which is used for preprocessing and generating batches of temporal data.\n",
        "\n",
        "Examples of sequential data are audio tracks, music, books and essays. Here, the order of the notes, words and sentences carry information about the meaning."
      ]
    },
    {
      "cell_type": "code",
      "metadata": {
        "id": "9V0cIZCQzyhB"
      },
      "source": [
        "import tensorflow as tf\n",
        "tf.__version__"
      ],
      "execution_count": null,
      "outputs": []
    },
    {
      "cell_type": "markdown",
      "metadata": {
        "id": "CF6Pc7h1zyhK"
      },
      "source": [
        "### The dataset\n",
        "\n",
        "In this notebook, we'll be using the [DSD100 dataset](https://sigsep.github.io/datasets/dsd100.html) to demonstrate the use of the `TimeseriesGenerator` to perform various preprocessing operations. The DSD100 dataset is a dataset of 100 different music tracks in different styles. Its intended use is signal separation, and it also includes the separate instrument tracks that add up to make the music tracks. The tracks are all stereophonic and sampled at 44.1kHz. A sample from the dataset is provided.\n",
        "\n",
        "Run the cell below to load one of the sample songs and press the play button to listen to the song."
      ]
    },
    {
      "cell_type": "markdown",
      "metadata": {
        "id": "SdXJbXMO0H9Z"
      },
      "source": [
        "#### Import the data\n",
        "\n",
        "The sample from the dataset required for this notebook can be downloaded from the following link:\n",
        "\n",
        "https://drive.google.com/open?id=1tEJ_1jNTIF9zyjCPp6GdcVo6lC1eMMG4\n",
        "\n",
        "You should store the data in Drive for use in this Colab notebook."
      ]
    },
    {
      "cell_type": "code",
      "metadata": {
        "id": "p4K6O0WB0qCy"
      },
      "source": [
        "# Run this cell to connect to your Drive folder\n",
        "\n",
        "from google.colab import drive\n",
        "drive.mount('/content/gdrive')"
      ],
      "execution_count": null,
      "outputs": []
    },
    {
      "cell_type": "code",
      "metadata": {
        "scrolled": false,
        "id": "noFPky8_zyhQ"
      },
      "source": [
        "# Play a sample track from the DSD100 dataset\n",
        "\n",
        "from IPython import display as ipd\n",
        "\n",
        "ipd.display(ipd.Audio(\"path/to/055 - Angels In Amplifiers - I'm Alright/mixture.wav\"))"
      ],
      "execution_count": null,
      "outputs": []
    },
    {
      "cell_type": "markdown",
      "metadata": {
        "id": "Ds7xbU00zyhV"
      },
      "source": [
        "## TimeseriesGenerator\n",
        "\n",
        "Before diving into working with preprocessing techniques on the DSD100 dataset, let's start by getting grips with the operations that we can perform using the `TimeseriesGenerator` on simple synthetic data.\n",
        "\n",
        "We'll begin by defining a simple time series dataset and corresponding sequence of targets."
      ]
    },
    {
      "cell_type": "code",
      "metadata": {
        "scrolled": true,
        "id": "TbpMwvKVzyhX"
      },
      "source": [
        "# Create a simple time series dataset\n",
        "\n",
        "import numpy as np\n",
        "\n",
        "dummy_data = np.arange(1, 11, 1)\n",
        "dummy_targets = np.arange(10, 110, 10)\n",
        "print(dummy_data)\n",
        "print(dummy_targets)"
      ],
      "execution_count": null,
      "outputs": []
    },
    {
      "cell_type": "markdown",
      "metadata": {
        "id": "zYKxauS4zyhd"
      },
      "source": [
        "The `TimeseriesGenerator` has three required arguments: `data`, `targets` and `length`. \n",
        "\n",
        "The `data` argument could be a list of numpy array that is at least 2-dimensional, with the first dimension corresponding to the time steps. \n",
        "\n",
        "The `targets` could be a list or numpy array, where the first dimension should match with `data`. These are the target values that are aligned to the time steps of `data`. In some cases, `data` and `targets` could be the same.\n",
        "\n",
        "The `length` argument controls the length of the samples generated by the `TimeseriesGenerator` in terms of the number of time steps."
      ]
    },
    {
      "cell_type": "code",
      "metadata": {
        "id": "seZQTFPFzyhf"
      },
      "source": [
        "# Create a TimeseriesGenerator object\n",
        "\n",
        "from tensorflow.keras.preprocessing.sequence import TimeseriesGenerator\n",
        "\n",
        "timeseries_gen = TimeseriesGenerator(dummy_data, dummy_targets, 4)"
      ],
      "execution_count": null,
      "outputs": []
    },
    {
      "cell_type": "code",
      "metadata": {
        "id": "I349-FGfzyhl"
      },
      "source": [
        "# Print the contents of the generator\n",
        "\n",
        "print('Length:', len(timeseries_gen))\n",
        "inputs, outputs = timeseries_gen[0]\n",
        "print(\"\\nData:\")\n",
        "print(inputs)\n",
        "print(\"Targets:\")\n",
        "print(outputs)"
      ],
      "execution_count": null,
      "outputs": []
    },
    {
      "cell_type": "markdown",
      "metadata": {
        "id": "L4i58E9Kzyhr"
      },
      "source": [
        "We can see that the `TimeseriesGenerator` object has created inputs of length 4 from the data, and aligned them to the corresponding targets at the next time step. These inputs and targets have been batched together in numpy arrays."
      ]
    },
    {
      "cell_type": "markdown",
      "metadata": {
        "id": "_dfrWdzNzyht"
      },
      "source": [
        "### Change  the batch size"
      ]
    },
    {
      "cell_type": "markdown",
      "metadata": {
        "id": "oONb3Pm_zyhv"
      },
      "source": [
        "The `TimeseriesGenerator` also has a `batch_size` keyword argument. Let's create a generator with a batch size of 2. The default (maximum) batch size is 128. "
      ]
    },
    {
      "cell_type": "code",
      "metadata": {
        "id": "3YGqkifEzyhw"
      },
      "source": [
        "# Create a TimeseriesGenerator object with length 3 and batch size 2\n",
        "\n",
        "timeseries_gen = TimeseriesGenerator(dummy_data, dummy_targets, length=3, batch_size=2)"
      ],
      "execution_count": null,
      "outputs": []
    },
    {
      "cell_type": "markdown",
      "metadata": {
        "id": "y1Gjt3cFzyh0"
      },
      "source": [
        "We can use the `iter` function to make our `TimeseriesGenerator` object iterable:"
      ]
    },
    {
      "cell_type": "code",
      "metadata": {
        "id": "EYmqJ5dEzyh2"
      },
      "source": [
        "# Make the time series generator iterable\n",
        "\n",
        "timeseries_iterator = iter(timeseries_gen)"
      ],
      "execution_count": null,
      "outputs": []
    },
    {
      "cell_type": "markdown",
      "metadata": {
        "id": "4ARcWaxHzyh7"
      },
      "source": [
        "Let's now generate some values using the iterator. **Run the following cell a few times** until the `StopIteration` of the generator object is reached. You will see that 2 samples are generated at a time until no more sample/target pairs can be formed:"
      ]
    },
    {
      "cell_type": "code",
      "metadata": {
        "scrolled": true,
        "id": "lSusZqR1zyh8"
      },
      "source": [
        "# Iterate through the dataset examples\n",
        "\n",
        "next(timeseries_iterator)"
      ],
      "execution_count": null,
      "outputs": []
    },
    {
      "cell_type": "markdown",
      "metadata": {
        "id": "FrWdr_zuzyiB"
      },
      "source": [
        "You may have noticed that since there were 7 input/target sequences to generate in total, and our batch size was set to 2, the last batch consisted of just one input/target pair. Keep the possible difference in the size of the last batch in mind if you are using `TimeseriesGenerator` for applications that require a constant batch size."
      ]
    },
    {
      "cell_type": "markdown",
      "metadata": {
        "id": "nYP_g2j8zyiD"
      },
      "source": [
        "### Change the stride"
      ]
    },
    {
      "cell_type": "markdown",
      "metadata": {
        "id": "WeErmXEszyiE"
      },
      "source": [
        "The interval between consecutive samples can be adjusted using the `stride` keyword argument."
      ]
    },
    {
      "cell_type": "code",
      "metadata": {
        "id": "nWysrXcPzyiF"
      },
      "source": [
        "# Create a TimeseriesGenerator object with a stride of 2\n",
        "\n",
        "timeseries_gen = TimeseriesGenerator(dummy_data, dummy_targets, length=3, stride=2, batch_size=1)"
      ],
      "execution_count": null,
      "outputs": []
    },
    {
      "cell_type": "markdown",
      "metadata": {
        "id": "1Oe7aagCzyiJ"
      },
      "source": [
        "Above we have specified the length as 3, and the stride as 2. This means that we will generate sequences starting with the first sample being (1, 2, 3) to predict the target 40. Subsequent samples will each skip 2 timesteps since the stride is 2, meaning the next sample will will be (3, 4, 5) to predict 60, and the one after that will be (5, 6, 7) to predict 80.\n",
        "\n",
        "Had we specified the stride to be the same as the length, then we would have samples which would not overlap, i.e. the first sequence would be the same, but the second sample would be (4, 5, 6) to predict 70, and so on."
      ]
    },
    {
      "cell_type": "code",
      "metadata": {
        "id": "6ZS8IyOLzyiK"
      },
      "source": [
        "# Make the time series generator iterable\n",
        "\n",
        "timeseries_iterator = iter(timeseries_gen)"
      ],
      "execution_count": null,
      "outputs": []
    },
    {
      "cell_type": "code",
      "metadata": {
        "id": "CkoF-1fzzyiP"
      },
      "source": [
        "# Iterate through the dataset examples\n",
        "\n",
        "while True:\n",
        "    try:\n",
        "        print(next(timeseries_iterator))\n",
        "    except StopIteration:\n",
        "        break"
      ],
      "execution_count": null,
      "outputs": []
    },
    {
      "cell_type": "markdown",
      "metadata": {
        "id": "hQgMUCV8zyiV"
      },
      "source": [
        "### Reverse the time series"
      ]
    },
    {
      "cell_type": "markdown",
      "metadata": {
        "id": "GBXyDvQbzyiX"
      },
      "source": [
        "The `reverse` keyword argument will reverse the samples' output order. However, it will not change anything about the targets. That is, although the timesteps themselves will be reversed, the target will still be the timestep immediately following the end of the sample sequence."
      ]
    },
    {
      "cell_type": "code",
      "metadata": {
        "id": "aDpwYV50zyiZ"
      },
      "source": [
        "# Create a reversed TimeseriesGenerator object\n",
        "\n",
        "timeseries_gen = TimeseriesGenerator(dummy_data, dummy_targets, length=3, stride=1, batch_size=1, reverse=True)\n",
        "timeseries_iterator = iter(timeseries_gen)"
      ],
      "execution_count": null,
      "outputs": []
    },
    {
      "cell_type": "markdown",
      "metadata": {
        "id": "zuKO_dBFzyif"
      },
      "source": [
        "Let's generate a few samples and targets to see this in action:"
      ]
    },
    {
      "cell_type": "code",
      "metadata": {
        "scrolled": true,
        "id": "8Zf6ni_pzyig"
      },
      "source": [
        "# Iterate through the dataset examples\n",
        "\n",
        "while True:\n",
        "    try:\n",
        "        print(next(timeseries_iterator))\n",
        "    except StopIteration:\n",
        "        break"
      ],
      "execution_count": null,
      "outputs": []
    },
    {
      "cell_type": "markdown",
      "metadata": {
        "id": "fr8iBFp_zyip"
      },
      "source": [
        "## Preprocess the DSD100 dataset\n",
        "### Load the audio files"
      ]
    },
    {
      "cell_type": "markdown",
      "metadata": {
        "id": "K9NPzsFezyiq"
      },
      "source": [
        "We first need to load a track as an array that can be passed to the `TimeseriesGenerator`. To do this we can use the `scipy` package."
      ]
    },
    {
      "cell_type": "code",
      "metadata": {
        "scrolled": true,
        "id": "R3ITr9Fgzyit"
      },
      "source": [
        "from scipy.io.wavfile import read, write\n",
        "\n",
        "rate, song = read(\"data/055 - Angels In Amplifiers - I'm Alright/mixture.wav\")\n",
        "print(\"rate:\", rate)\n",
        "song = np.array(song)\n",
        "print(\"song.shape:\", song.shape)"
      ],
      "execution_count": null,
      "outputs": []
    },
    {
      "cell_type": "markdown",
      "metadata": {
        "id": "e8mYswGQzyiz"
      },
      "source": [
        "The `song` is a stereo signal, which is why the second dimension here is equal to 2. The `rate` is the sample rate of the audio file. This number sets the speed at which the file should be played, so this audio runs at 44,100 samples per second (Hz)."
      ]
    },
    {
      "cell_type": "markdown",
      "metadata": {
        "id": "BSwk6tsVzyiz"
      },
      "source": [
        "### Create a generator for the audio time series"
      ]
    },
    {
      "cell_type": "markdown",
      "metadata": {
        "id": "aj8t2QP3zyi1"
      },
      "source": [
        "Now that we know how to load the audio files, we can experiment with using them with the `TimeseriesGenerator`.\n",
        "\n",
        "We'll specify the `length` of the sequences as 200,000, and we'll also set the stride to be 200,000. Remember that the audio runs at 44.1kHz, so 200,000 samples corresponds to about 4.5 seconds of audio.\n",
        "\n",
        "Setting the length equal to the stride means that the different sequences will have no overlap. We will specify the batch size as 1 such that only one sample is generated at a time."
      ]
    },
    {
      "cell_type": "code",
      "metadata": {
        "id": "6sxU0v4zzyi3"
      },
      "source": [
        "# Create a time series generator for the audio file\n",
        "\n",
        "timeseries_gen = TimeseriesGenerator(song, targets=song, length=200000, stride=200000, batch_size=1)\n",
        "timeseries_iterator = iter(timeseries_gen)"
      ],
      "execution_count": null,
      "outputs": []
    },
    {
      "cell_type": "markdown",
      "metadata": {
        "id": "9PAV2of0zyi8"
      },
      "source": [
        "Running the cell below will generate 3 sequential samples from the iterator. If you wish to generate another 3 samples, you can run the cell again.\n",
        "\n",
        "When run for the first time, the first sequence encompasses timesteps 1 - 200,000, the second will encompass items 200,001 - 400,000, and the third 400,001 - 600,000.\n",
        "\n",
        "For each sequence, the `target` is the timestep immediately after the end of the sequence, and in this case (since we have the `length` equal to the `stride`) it will also be the first timestep of the following sample.\n",
        "\n",
        "We will generate samples and write them as `wav` files. You can see in each case that the generated sample is a sequential chunk from the original audio. If played one after another, they'll form a continuous section of the track."
      ]
    },
    {
      "cell_type": "code",
      "metadata": {
        "scrolled": true,
        "id": "ul9h5d5Wzyi-"
      },
      "source": [
        "# Get three samples from the audio time series generator\n",
        "\n",
        "for i in range(3):\n",
        "    sample, target = next(timeseries_iterator)\n",
        "    write('example.wav', rate, sample[0])\n",
        "    print('Sample {}'.format(i+1))\n",
        "    ipd.display(ipd.Audio(\"example.wav\"))"
      ],
      "execution_count": null,
      "outputs": []
    },
    {
      "cell_type": "markdown",
      "metadata": {
        "id": "4Faruq_jzyjF"
      },
      "source": [
        "### Change the stride"
      ]
    },
    {
      "cell_type": "code",
      "metadata": {
        "id": "rAuhMeMRzyjH"
      },
      "source": [
        "# Create a TimeseriesGenerator object with the stride equal to half the length\n",
        "\n",
        "timeseries_gen = TimeseriesGenerator(song, targets=song, length=200000, stride=100000, batch_size=1)\n",
        "timeseries_iterator = iter(timeseries_gen)"
      ],
      "execution_count": null,
      "outputs": []
    },
    {
      "cell_type": "markdown",
      "metadata": {
        "id": "ICqhfa54zyjM"
      },
      "source": [
        "With the stride equal to half of the length, we see that the samples are no longer non-overlapping. Each subsequent sample starts halfway through the previous sample."
      ]
    },
    {
      "cell_type": "code",
      "metadata": {
        "scrolled": true,
        "id": "P9BsG5lzzyjO"
      },
      "source": [
        "# Get three samples from the audio time series generator\n",
        "\n",
        "for i in range(3):\n",
        "    sample, target = next(timeseries_iterator)\n",
        "    write('example.wav', rate, sample[0])\n",
        "    print('Sample {}'.format(i+1))\n",
        "    ipd.display(ipd.Audio(\"example.wav\"))"
      ],
      "execution_count": null,
      "outputs": []
    },
    {
      "cell_type": "markdown",
      "metadata": {
        "id": "DVuHRM1ezyjV"
      },
      "source": [
        "### Change the sampling rate"
      ]
    },
    {
      "cell_type": "markdown",
      "metadata": {
        "id": "rLssJ0FGzyjY"
      },
      "source": [
        "Using this keyword argument results in downsampling. Increasing the `sampling_rate` from 1 to 2 will result in the interval between subsequent timesteps within any one sample being increased to 2. What this means is that only every other timestep in a given sample will be included. \n",
        "\n",
        "Note that the `length` argument in this case refers to the length *before* the `sampling_rate` is applied."
      ]
    },
    {
      "cell_type": "code",
      "metadata": {
        "id": "Npsy1bIrzyja"
      },
      "source": [
        "# Create a TimeseriesGenerator object with sampling_rate set to 2\n",
        "\n",
        "timeseries_gen = TimeseriesGenerator(song, song, length=200000, stride=200000, batch_size=1, sampling_rate=2)\n",
        "timeseries_iterator = iter(timeseries_gen)"
      ],
      "execution_count": null,
      "outputs": []
    },
    {
      "cell_type": "markdown",
      "metadata": {
        "id": "Z1nuVXXKzyjf"
      },
      "source": [
        "In the following, we will write the files with the original `rate` of 44,100Hz."
      ]
    },
    {
      "cell_type": "code",
      "metadata": {
        "id": "oE8EqLZmzyjg"
      },
      "source": [
        "# Get three samples from the audio time series generator\n",
        "\n",
        "for i in range(3):\n",
        "    sample, target = next(timeseries_iterator)\n",
        "    write('example.wav', rate, sample[0])\n",
        "    print('Sample {}'.format(i+1))\n",
        "    ipd.display(ipd.Audio(\"example.wav\"))"
      ],
      "execution_count": null,
      "outputs": []
    },
    {
      "cell_type": "markdown",
      "metadata": {
        "id": "9j1gzsI3zyjl"
      },
      "source": [
        "The above clips each contain only 100,000 samples due to the `sampling_rate` being set to 2. This results in the audio files sounding twice as fast. \n",
        "\n",
        "However, we could also adjust the rate at which we write the wav files to compensate for the downsampling. This results in clips that sound similar to the originals, but at a reduced quality.\n",
        "\n",
        "If you are interested in audio signal processing, you may have noticed that since we did not filter out high frequency components before downsampling, we may have introduced [aliasing](https://en.wikipedia.org/wiki/Aliasing)."
      ]
    },
    {
      "cell_type": "code",
      "metadata": {
        "id": "O4Yncv1Hzyjn"
      },
      "source": [
        "# Write the wav files at an adjusted sample rate\n",
        "\n",
        "for i in range(3):\n",
        "    sample, target = next(timeseries_iterator)\n",
        "    write('example.wav', rate//2, sample[0])\n",
        "    print('Sample {}'.format(i+1))\n",
        "    ipd.display(ipd.Audio(\"example.wav\"))"
      ],
      "execution_count": null,
      "outputs": []
    },
    {
      "cell_type": "markdown",
      "metadata": {
        "id": "jl4-bLRPzyjr"
      },
      "source": [
        "### Change the start index"
      ]
    },
    {
      "cell_type": "markdown",
      "metadata": {
        "id": "Goy5byjOzyjt"
      },
      "source": [
        "The `TimeseriesGenerator` also has `start_index` and `end_index` keyword arguments, to specify which portion of our data we want to use to generate samples. This can be useful in the case that we want to reserve part of our data for validation.\n",
        "\n",
        "Here we specify the `start_index` as 400,000 which is double the length, and will effectively skip the first 2 samples that would have otherwise been generated."
      ]
    },
    {
      "cell_type": "code",
      "metadata": {
        "id": "Vt-sqWPyzyju"
      },
      "source": [
        "# Create a TimeseriesGenerator object with start index set to 400,000\n",
        "\n",
        "timeseries_gen = TimeseriesGenerator(song, song, length=200000, stride=200000, batch_size=1, start_index=400000)\n",
        "timeseries_iterator = iter(timeseries_gen)"
      ],
      "execution_count": null,
      "outputs": []
    },
    {
      "cell_type": "code",
      "metadata": {
        "id": "Iml8xsu2zyj0"
      },
      "source": [
        "# Get three samples from the audio time series generator\n",
        "\n",
        "for i in range(3):\n",
        "    sample, target = next(timeseries_iterator)\n",
        "    write('example.wav', rate, sample[0])\n",
        "    print('Sample {}'.format(i+1))\n",
        "    ipd.display(ipd.Audio(\"example.wav\"))"
      ],
      "execution_count": null,
      "outputs": []
    },
    {
      "cell_type": "markdown",
      "metadata": {
        "id": "ciYcKFhLzyj5"
      },
      "source": [
        "### Shuffle the samples"
      ]
    },
    {
      "cell_type": "markdown",
      "metadata": {
        "id": "S_gRKepPzyj7"
      },
      "source": [
        "Setting the keyword argument `shuffle` to `True` will randomly re-order the generated samples."
      ]
    },
    {
      "cell_type": "code",
      "metadata": {
        "id": "WFAnmJJxzyj8"
      },
      "source": [
        "# Create a shuffled TimeseriesGenerator object\n",
        "\n",
        "timeseries_gen = TimeseriesGenerator(song, song, length=200000, stride=200000, batch_size=1, shuffle=True)\n",
        "timeseries_iterator = iter(timeseries_gen)"
      ],
      "execution_count": null,
      "outputs": []
    },
    {
      "cell_type": "code",
      "metadata": {
        "id": "aMaxtPb8zykB"
      },
      "source": [
        "# Get three samples from the audio time series generator\n",
        "\n",
        "for i in range(3):\n",
        "    sample, target = next(timeseries_iterator)\n",
        "    write('example.wav', rate, sample[0])\n",
        "    print('Sample {}'.format(i+1))\n",
        "    ipd.display(ipd.Audio(\"example.wav\"))"
      ],
      "execution_count": null,
      "outputs": []
    },
    {
      "cell_type": "markdown",
      "metadata": {
        "id": "OXvIx0UtzykF"
      },
      "source": [
        "### Reverse the audio"
      ]
    },
    {
      "cell_type": "markdown",
      "metadata": {
        "id": "8CH2SbhvzykH"
      },
      "source": [
        "As a final bit of fun, let's reverse some of the samples to see what they sound like backwards! Remember that the keyword argument `reverse` reverses the sample ordering of the timesteps within the sample."
      ]
    },
    {
      "cell_type": "code",
      "metadata": {
        "id": "2MEiGAdrzykJ"
      },
      "source": [
        "# Create a reversed TimeseriesGenerator object\n",
        "\n",
        "timeseries_gen = TimeseriesGenerator(song, song, length=200000, stride=200000, batch_size=1, reverse=True)\n",
        "timeseries_iterator = iter(timeseries_gen)"
      ],
      "execution_count": null,
      "outputs": []
    },
    {
      "cell_type": "markdown",
      "metadata": {
        "id": "dFD_3tn_zykN"
      },
      "source": [
        "Play the samples below to hear some slightly demonic-sounding music:"
      ]
    },
    {
      "cell_type": "code",
      "metadata": {
        "scrolled": true,
        "id": "m4EEVT7gzykQ"
      },
      "source": [
        "# Get three samples from the audio time series generator\n",
        "\n",
        "for i in range(3):\n",
        "    sample, target = next(timeseries_iterator)\n",
        "    write('example.wav', rate, sample[0])\n",
        "    print('Sample {}'.format(i+1))\n",
        "    ipd.display(ipd.Audio(\"example.wav\"))"
      ],
      "execution_count": null,
      "outputs": []
    },
    {
      "cell_type": "markdown",
      "metadata": {
        "id": "2Xa1HCBszykT"
      },
      "source": [
        "## Further reading and resources\n",
        "* https://www.tensorflow.org/api_docs/python/tf/keras/preprocessing/sequence/TimeseriesGenerator\n",
        "* https://keras.io/preprocessing/sequence/"
      ]
    }
  ]
}