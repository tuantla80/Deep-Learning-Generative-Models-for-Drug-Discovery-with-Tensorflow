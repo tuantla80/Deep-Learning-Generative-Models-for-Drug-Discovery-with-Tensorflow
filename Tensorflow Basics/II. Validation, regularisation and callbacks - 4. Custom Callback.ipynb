{
  "nbformat": 4,
  "nbformat_minor": 0,
  "metadata": {
    "colab": {
      "name": "II. Validation, regularisation and callbacks - 4. Custom Callback.ipynb",
      "provenance": [],
      "collapsed_sections": []
    },
    "kernelspec": {
      "name": "python3",
      "display_name": "Python 3"
    }
  },
  "cells": [
    {
      "cell_type": "code",
      "metadata": {
        "colab": {
          "base_uri": "https://localhost:8080/",
          "height": 35
        },
        "id": "9jNB0DaeUyNT",
        "outputId": "cd9fd3a2-3e4a-4820-8047-09928baf8e37"
      },
      "source": [
        "import tensorflow as tf\r\n",
        "tf.__version__"
      ],
      "execution_count": 1,
      "outputs": [
        {
          "output_type": "execute_result",
          "data": {
            "application/vnd.google.colaboratory.intrinsic+json": {
              "type": "string"
            },
            "text/plain": [
              "'2.4.1'"
            ]
          },
          "metadata": {
            "tags": []
          },
          "execution_count": 1
        }
      ]
    },
    {
      "cell_type": "markdown",
      "metadata": {
        "id": "j4Pi76RipdbQ"
      },
      "source": [
        "###**Training Callback**"
      ]
    },
    {
      "cell_type": "code",
      "metadata": {
        "id": "7mjitlPim2Ow"
      },
      "source": [
        "from tensorflow.keras.callbacks import Callback\r\n",
        "\r\n",
        "class TrainingCallback(Callback):\r\n",
        "  # To overwritten the below functions\r\n",
        "  \r\n",
        "  def on_train_begin(self, logs=None):\r\n",
        "    print('Traning starts...')\r\n",
        "\r\n",
        "  def on_epoch_begin(self, epoch, logs=None):\r\n",
        "    print(f'Starting epoch {epoch}')\r\n",
        "\r\n",
        "  def on_train_batch_begin(self, batch, logs=None):\r\n",
        "    print(f'Starting batch {batch}')\r\n",
        "\r\n",
        "  def on_train_batch_end(self, batch, logs=None):\r\n",
        "    print(f'Finishing batch {batch}')\r\n",
        "\r\n",
        "  def on_epoch_end(self, epoch, logs=None):\r\n",
        "    print(f'Finishing epoch {epoch}')\r\n",
        "\r\n",
        "  def on_train_end(self, logs=None):\r\n",
        "    print(f'Finishing training!')"
      ],
      "execution_count": 2,
      "outputs": []
    },
    {
      "cell_type": "markdown",
      "metadata": {
        "id": "Lso20o0fplQB"
      },
      "source": [
        "###**Testing Callback**"
      ]
    },
    {
      "cell_type": "code",
      "metadata": {
        "id": "55mrPwl8pmI-"
      },
      "source": [
        "class TestingCallback(Callback):\r\n",
        "  # To overwritten the below functions\r\n",
        "\r\n",
        "  def on_test_begin(self, logs=None):\r\n",
        "    print('Testing starts...')\r\n",
        "  \r\n",
        "  def on_test_batch_begin(self, batch, logs=None):\r\n",
        "    print(f'Testing: Starting batch {batch}')\r\n",
        "\r\n",
        "  def on_test_batch_end(self, batch, logs=None):\r\n",
        "    print(f'Testing: Finishing batch {batch}')\r\n",
        "\r\n",
        "  def on_test_end(self, logs=None):\r\n",
        "    print(f'Testing: Finished!')"
      ],
      "execution_count": 3,
      "outputs": []
    },
    {
      "cell_type": "markdown",
      "metadata": {
        "id": "81HhB3WgqrcS"
      },
      "source": [
        "### **Prediction Callback**"
      ]
    },
    {
      "cell_type": "code",
      "metadata": {
        "id": "GOJYaXkIqr42"
      },
      "source": [
        "class PredictionCallback(Callback):\r\n",
        "  # To overwritten the below functions\r\n",
        "\r\n",
        "  def on_predict_begin(self, logs=None):\r\n",
        "    print('Prediction starts...')\r\n",
        "  \r\n",
        "  def on_predict_batch_begin(self, batch, logs=None):\r\n",
        "    print(f'prediction: Starting batch {batch}')\r\n",
        "\r\n",
        "  def on_predict_batch_end(self, batch, logs=None):\r\n",
        "    print(f'Prediction: Finishing batch {batch}')\r\n",
        "\r\n",
        "  def on_predict_end(self, logs=None):\r\n",
        "    print(f'Prediction: Finished!')"
      ],
      "execution_count": 20,
      "outputs": []
    },
    {
      "cell_type": "code",
      "metadata": {
        "id": "pPpvERuXXG7G"
      },
      "source": [
        "from tensorflow.keras.models import Sequential\r\n",
        "from tensorflow.keras.layers import Dense\r\n",
        "from tensorflow.keras.optimizers import Adam"
      ],
      "execution_count": 5,
      "outputs": []
    },
    {
      "cell_type": "markdown",
      "metadata": {
        "id": "ld-j0gQg5iyd"
      },
      "source": [
        "###**Validation sets**"
      ]
    },
    {
      "cell_type": "code",
      "metadata": {
        "id": "pQsJcbz15pgI"
      },
      "source": [
        "from sklearn.datasets import load_diabetes\r\n",
        "\r\n",
        "diabetes_dataset = load_diabetes()\r\n",
        "#print(diabetes_dataset['DESCR'])"
      ],
      "execution_count": 6,
      "outputs": []
    },
    {
      "cell_type": "code",
      "metadata": {
        "colab": {
          "base_uri": "https://localhost:8080/"
        },
        "id": "tYIVNzWK6Lt1",
        "outputId": "e84a01aa-7442-41d8-e46a-fc633a3f6d29"
      },
      "source": [
        "diabetes_dataset.keys()"
      ],
      "execution_count": 7,
      "outputs": [
        {
          "output_type": "execute_result",
          "data": {
            "text/plain": [
              "dict_keys(['data', 'target', 'DESCR', 'feature_names', 'data_filename', 'target_filename'])"
            ]
          },
          "metadata": {
            "tags": []
          },
          "execution_count": 7
        }
      ]
    },
    {
      "cell_type": "markdown",
      "metadata": {
        "id": "1EQoSnK56gda"
      },
      "source": [
        "**Get data and target**"
      ]
    },
    {
      "cell_type": "code",
      "metadata": {
        "id": "TlCpsswG6SDl"
      },
      "source": [
        "data = diabetes_dataset['data']\r\n",
        "targets = diabetes_dataset['target']"
      ],
      "execution_count": 8,
      "outputs": []
    },
    {
      "cell_type": "code",
      "metadata": {
        "id": "x6vvl5fy6kpm"
      },
      "source": [
        "# targets"
      ],
      "execution_count": 9,
      "outputs": []
    },
    {
      "cell_type": "markdown",
      "metadata": {
        "id": "sdMrG7ax6wnL"
      },
      "source": [
        "**Normalizes the target**"
      ]
    },
    {
      "cell_type": "code",
      "metadata": {
        "id": "5dV_hOCf6SQW"
      },
      "source": [
        "targets = (targets - targets.mean(axis=0)) / targets.std()\r\n",
        "# targets"
      ],
      "execution_count": 10,
      "outputs": []
    },
    {
      "cell_type": "markdown",
      "metadata": {
        "id": "sTMGlaB77TFp"
      },
      "source": [
        "**Split data into Train and Test sets**"
      ]
    },
    {
      "cell_type": "code",
      "metadata": {
        "id": "d1VogZ0d63RK"
      },
      "source": [
        "from sklearn.model_selection import train_test_split\r\n",
        "\r\n",
        "train_data, test_data, train_targets, test_targets = train_test_split(data, targets, test_size=0.1)"
      ],
      "execution_count": 11,
      "outputs": []
    },
    {
      "cell_type": "code",
      "metadata": {
        "colab": {
          "base_uri": "https://localhost:8080/"
        },
        "id": "ebPxavtz63V1",
        "outputId": "eff993c1-4f8c-42ec-9a9a-70e00d9b36a4"
      },
      "source": [
        "print(train_data.shape)\r\n",
        "print(test_data.shape)\r\n",
        "print(train_targets.shape)\r\n",
        "print(test_targets.shape)"
      ],
      "execution_count": 12,
      "outputs": [
        {
          "output_type": "stream",
          "text": [
            "(397, 10)\n",
            "(45, 10)\n",
            "(397,)\n",
            "(45,)\n"
          ],
          "name": "stdout"
        }
      ]
    },
    {
      "cell_type": "markdown",
      "metadata": {
        "id": "k9R-rDJv8F0L"
      },
      "source": [
        "### **Train a Feedforward NN**"
      ]
    },
    {
      "cell_type": "code",
      "metadata": {
        "id": "m9qqwY-dqZyd"
      },
      "source": [
        "from tensorflow.keras.layers import Dropout\r\n",
        "from tensorflow.keras import regularizers"
      ],
      "execution_count": 13,
      "outputs": []
    },
    {
      "cell_type": "code",
      "metadata": {
        "id": "vBW89Ry-6QgS"
      },
      "source": [
        "def get_regularized_model(weight_decay, dropout_rate):\r\n",
        "  model = Sequential([\r\n",
        "    Dense(128, kernel_regularizer=regularizers.l2(weight_decay), activation='relu', input_shape=(train_data.shape[1],)),\r\n",
        "    Dropout(dropout_rate),\r\n",
        "    Dense(128, kernel_regularizer=regularizers.l2(weight_decay), activation='relu'),\r\n",
        "    Dropout(dropout_rate),\r\n",
        "    Dense(128, kernel_regularizer=regularizers.l2(weight_decay), activation='relu'),\r\n",
        "    Dropout(dropout_rate),\r\n",
        "    Dense(128, kernel_regularizer=regularizers.l2(weight_decay), activation='relu'),\r\n",
        "    Dropout(dropout_rate),\r\n",
        "    Dense(128, kernel_regularizer=regularizers.l2(weight_decay), activation='relu'),\r\n",
        "    Dropout(dropout_rate),\r\n",
        "    Dense(128, kernel_regularizer=regularizers.l2(weight_decay), activation='relu'),\r\n",
        "    Dropout(dropout_rate),\r\n",
        "    Dense(1)])\r\n",
        "  return model\r\n",
        "\r\n",
        "model = get_regularized_model(weight_decay=1e-5, dropout_rate=0.3)"
      ],
      "execution_count": 14,
      "outputs": []
    },
    {
      "cell_type": "code",
      "metadata": {
        "colab": {
          "base_uri": "https://localhost:8080/"
        },
        "id": "6jzta2QEkJiv",
        "outputId": "7c5f003d-9c67-4b10-8b55-4e183096ffad"
      },
      "source": [
        "model.summary()"
      ],
      "execution_count": 15,
      "outputs": [
        {
          "output_type": "stream",
          "text": [
            "Model: \"sequential\"\n",
            "_________________________________________________________________\n",
            "Layer (type)                 Output Shape              Param #   \n",
            "=================================================================\n",
            "dense (Dense)                (None, 128)               1408      \n",
            "_________________________________________________________________\n",
            "dropout (Dropout)            (None, 128)               0         \n",
            "_________________________________________________________________\n",
            "dense_1 (Dense)              (None, 128)               16512     \n",
            "_________________________________________________________________\n",
            "dropout_1 (Dropout)          (None, 128)               0         \n",
            "_________________________________________________________________\n",
            "dense_2 (Dense)              (None, 128)               16512     \n",
            "_________________________________________________________________\n",
            "dropout_2 (Dropout)          (None, 128)               0         \n",
            "_________________________________________________________________\n",
            "dense_3 (Dense)              (None, 128)               16512     \n",
            "_________________________________________________________________\n",
            "dropout_3 (Dropout)          (None, 128)               0         \n",
            "_________________________________________________________________\n",
            "dense_4 (Dense)              (None, 128)               16512     \n",
            "_________________________________________________________________\n",
            "dropout_4 (Dropout)          (None, 128)               0         \n",
            "_________________________________________________________________\n",
            "dense_5 (Dense)              (None, 128)               16512     \n",
            "_________________________________________________________________\n",
            "dropout_5 (Dropout)          (None, 128)               0         \n",
            "_________________________________________________________________\n",
            "dense_6 (Dense)              (None, 1)                 129       \n",
            "=================================================================\n",
            "Total params: 84,097\n",
            "Trainable params: 84,097\n",
            "Non-trainable params: 0\n",
            "_________________________________________________________________\n"
          ],
          "name": "stdout"
        }
      ]
    },
    {
      "cell_type": "code",
      "metadata": {
        "id": "euxkJ-RukUFX"
      },
      "source": [
        "model.compile(optimizer='adam', loss='mse')"
      ],
      "execution_count": 16,
      "outputs": []
    },
    {
      "cell_type": "markdown",
      "metadata": {
        "id": "ZNhTQHj8owH_"
      },
      "source": [
        "**Training model with Callback**"
      ]
    },
    {
      "cell_type": "code",
      "metadata": {
        "id": "_3VWdV64XQIw",
        "colab": {
          "base_uri": "https://localhost:8080/"
        },
        "outputId": "0a779777-a87d-4991-83fa-3a4ab08e3b7b"
      },
      "source": [
        "history = model.fit(train_data, \r\n",
        "                    train_targets, \r\n",
        "                    epochs=3,\r\n",
        "                    validation_split=0.15,\r\n",
        "                    batch_size=128,\r\n",
        "                    verbose=False,\r\n",
        "                    callbacks=[TrainingCallback()]\r\n",
        "                    )\r\n",
        "print(history.history.keys())  # dict_keys(['loss', 'mape', 'val_loss', 'val_mape'])"
      ],
      "execution_count": 17,
      "outputs": [
        {
          "output_type": "stream",
          "text": [
            "Traning starts...\n",
            "Starting epoch 0\n",
            "Starting batch 0\n",
            "Finishing batch 0\n",
            "Starting batch 1\n",
            "Finishing batch 1\n",
            "Starting batch 2\n",
            "Finishing batch 2\n",
            "Finishing epoch 0\n",
            "Starting epoch 1\n",
            "Starting batch 0\n",
            "Finishing batch 0\n",
            "Starting batch 1\n",
            "Finishing batch 1\n",
            "Starting batch 2\n",
            "Finishing batch 2\n",
            "Finishing epoch 1\n",
            "Starting epoch 2\n",
            "Starting batch 0\n",
            "Finishing batch 0\n",
            "Starting batch 1\n",
            "Finishing batch 1\n",
            "Starting batch 2\n",
            "Finishing batch 2\n",
            "Finishing epoch 2\n",
            "Finishing training!\n",
            "dict_keys(['loss', 'val_loss'])\n"
          ],
          "name": "stdout"
        }
      ]
    },
    {
      "cell_type": "markdown",
      "metadata": {
        "id": "cksgffrLqawD"
      },
      "source": [
        "### **Evaluate with testing callback**"
      ]
    },
    {
      "cell_type": "code",
      "metadata": {
        "colab": {
          "base_uri": "https://localhost:8080/"
        },
        "id": "Agespzq8lLAT",
        "outputId": "c5c13c22-bf6f-4eae-c6f3-42c5b20bf88a"
      },
      "source": [
        "model.evaluate(test_data, test_targets, verbose=2, callbacks=[TestingCallback()])"
      ],
      "execution_count": 18,
      "outputs": [
        {
          "output_type": "stream",
          "text": [
            "Testing starts...\n",
            "Testing: Starting batch 0\n",
            "Testing: Finishing batch 0\n",
            "Testing: Starting batch 1\n",
            "Testing: Finishing batch 1\n",
            "2/2 - 0s - loss: 0.7792\n",
            "Testing: Finished!\n"
          ],
          "name": "stdout"
        },
        {
          "output_type": "execute_result",
          "data": {
            "text/plain": [
              "0.7791553139686584"
            ]
          },
          "metadata": {
            "tags": []
          },
          "execution_count": 18
        }
      ]
    },
    {
      "cell_type": "markdown",
      "metadata": {
        "id": "OFrx-pqA30br"
      },
      "source": [
        "**Prediction with callback**"
      ]
    },
    {
      "cell_type": "code",
      "metadata": {
        "id": "4DRw73BX4wz1",
        "colab": {
          "base_uri": "https://localhost:8080/"
        },
        "outputId": "0651d932-7e88-4b45-b776-6686bc2623a0"
      },
      "source": [
        "model.predict(test_data, verbose=False, callbacks=[PredictionCallback()])"
      ],
      "execution_count": 21,
      "outputs": [
        {
          "output_type": "stream",
          "text": [
            "Prediction starts...\n",
            "prediction: Starting batch 0\n",
            "Prediction: Finishing batch 0\n",
            "prediction: Starting batch 1\n",
            "Prediction: Finishing batch 1\n",
            "Prediction: Finished!\n"
          ],
          "name": "stdout"
        },
        {
          "output_type": "execute_result",
          "data": {
            "text/plain": [
              "array([[0.03108064],\n",
              "       [0.06108658],\n",
              "       [0.05500937],\n",
              "       [0.01261233],\n",
              "       [0.02764589],\n",
              "       [0.07542811],\n",
              "       [0.03734202],\n",
              "       [0.0294998 ],\n",
              "       [0.02394306],\n",
              "       [0.01459122],\n",
              "       [0.06514514],\n",
              "       [0.07170716],\n",
              "       [0.02938245],\n",
              "       [0.03741388],\n",
              "       [0.03888236],\n",
              "       [0.01177666],\n",
              "       [0.08260433],\n",
              "       [0.05892004],\n",
              "       [0.04720611],\n",
              "       [0.07782611],\n",
              "       [0.06491879],\n",
              "       [0.03731585],\n",
              "       [0.0147785 ],\n",
              "       [0.01154304],\n",
              "       [0.04833364],\n",
              "       [0.0641339 ],\n",
              "       [0.0111873 ],\n",
              "       [0.0432971 ],\n",
              "       [0.08781214],\n",
              "       [0.01266828],\n",
              "       [0.06444703],\n",
              "       [0.00980456],\n",
              "       [0.02932644],\n",
              "       [0.00836737],\n",
              "       [0.04804941],\n",
              "       [0.00953231],\n",
              "       [0.04342889],\n",
              "       [0.05920814],\n",
              "       [0.04741011],\n",
              "       [0.01329505],\n",
              "       [0.06311829],\n",
              "       [0.02281408],\n",
              "       [0.04809755],\n",
              "       [0.02499654],\n",
              "       [0.01887225]], dtype=float32)"
            ]
          },
          "metadata": {
            "tags": []
          },
          "execution_count": 21
        }
      ]
    },
    {
      "cell_type": "code",
      "metadata": {
        "id": "31lZ-hCMrvK2"
      },
      "source": [
        ""
      ],
      "execution_count": 19,
      "outputs": []
    }
  ]
}