{
  "nbformat": 4,
  "nbformat_minor": 0,
  "metadata": {
    "colab": {
      "name": "I. Sequential Model API - 6. Training Model - Fit method.ipynb",
      "provenance": [],
      "collapsed_sections": []
    },
    "kernelspec": {
      "name": "python3",
      "display_name": "Python 3"
    }
  },
  "cells": [
    {
      "cell_type": "code",
      "metadata": {
        "colab": {
          "base_uri": "https://localhost:8080/",
          "height": 35
        },
        "id": "9jNB0DaeUyNT",
        "outputId": "bd921681-5f38-453f-996d-5b3e08ad23e0"
      },
      "source": [
        "import tensorflow as tf\r\n",
        "tf.__version__"
      ],
      "execution_count": 1,
      "outputs": [
        {
          "output_type": "execute_result",
          "data": {
            "application/vnd.google.colaboratory.intrinsic+json": {
              "type": "string"
            },
            "text/plain": [
              "'2.4.1'"
            ]
          },
          "metadata": {
            "tags": []
          },
          "execution_count": 1
        }
      ]
    },
    {
      "cell_type": "code",
      "metadata": {
        "id": "pPpvERuXXG7G"
      },
      "source": [
        "from tensorflow.keras.models import Sequential\r\n",
        "from tensorflow.keras.layers import Dense, Flatten, Conv2D, MaxPooling2D\r\n",
        "from tensorflow.keras.preprocessing import image\r\n",
        "import numpy as np\r\n",
        "import pandas as pd\r\n",
        "import matplotlib.pyplot as plt\r\n"
      ],
      "execution_count": 2,
      "outputs": []
    },
    {
      "cell_type": "markdown",
      "metadata": {
        "id": "JClP0jGa9IB5"
      },
      "source": [
        "### **Load the data**"
      ]
    },
    {
      "cell_type": "code",
      "metadata": {
        "id": "pHQ5rk9J9MbM"
      },
      "source": [
        "fashion_mnist_data = tf.keras.datasets.fashion_mnist\r\n",
        "(train_images, train_labels), (test_images, test_labels) = fashion_mnist_data.load_data()"
      ],
      "execution_count": 3,
      "outputs": []
    },
    {
      "cell_type": "code",
      "metadata": {
        "id": "NqdfSb2p9lHx",
        "colab": {
          "base_uri": "https://localhost:8080/"
        },
        "outputId": "9f4a068d-5b01-4e06-efa0-2185cbe95e23"
      },
      "source": [
        "print(train_images.shape)\r\n",
        "print(train_labels.shape)\r\n",
        "print(test_images.shape)\r\n",
        "print(test_labels.shape)"
      ],
      "execution_count": 4,
      "outputs": [
        {
          "output_type": "stream",
          "text": [
            "(60000, 28, 28)\n",
            "(60000,)\n",
            "(10000, 28, 28)\n",
            "(10000,)\n"
          ],
          "name": "stdout"
        }
      ]
    },
    {
      "cell_type": "code",
      "metadata": {
        "colab": {
          "base_uri": "https://localhost:8080/"
        },
        "id": "NUjHW6blAW4o",
        "outputId": "81d0a872-76e9-42c9-9e29-ae3c9edd0d8c"
      },
      "source": [
        "labels =  ['T-shirt/top', 'Trouser', 'Pullover', 'Dress', 'Coat',\r\n",
        "               'Sandal', 'Shirt', 'Sneaker', 'Bag', 'Ankle boot']\r\n",
        "print(train_labels[0])               "
      ],
      "execution_count": 5,
      "outputs": [
        {
          "output_type": "stream",
          "text": [
            "9\n"
          ],
          "name": "stdout"
        }
      ]
    },
    {
      "cell_type": "markdown",
      "metadata": {
        "id": "qmK5KTPNAkWU"
      },
      "source": [
        "**Rescale the image values to be in range [0, 1]**"
      ]
    },
    {
      "cell_type": "code",
      "metadata": {
        "id": "wQPN_qKgAwiy"
      },
      "source": [
        "train_images = train_images / 255.\r\n",
        "test_images = test_images / 255."
      ],
      "execution_count": 6,
      "outputs": []
    },
    {
      "cell_type": "markdown",
      "metadata": {
        "id": "8GA7dcNpBNfC"
      },
      "source": [
        "**Display an image**"
      ]
    },
    {
      "cell_type": "code",
      "metadata": {
        "colab": {
          "base_uri": "https://localhost:8080/",
          "height": 282
        },
        "id": "qx8IiW3wBRAU",
        "outputId": "b0e8149f-16dd-48c8-eead-48b318fb5d4f"
      },
      "source": [
        "i = 0\r\n",
        "img = train_images[i, :, :]\r\n",
        "plt.imshow(img)\r\n",
        "plt.show()\r\n",
        "print(f\"label: {labels[train_labels[i]]}\")"
      ],
      "execution_count": 7,
      "outputs": [
        {
          "output_type": "display_data",
          "data": {
            "image/png": "[encoded data removed]",
            "text/plain": [
              "<Figure size 432x288 with 1 Axes>"
            ]
          },
          "metadata": {
            "tags": [],
            "needs_background": "light"
          }
        },
        {
          "output_type": "stream",
          "text": [
            "label: Ankle boot\n"
          ],
          "name": "stdout"
        }
      ]
    },
    {
      "cell_type": "markdown",
      "metadata": {
        "id": "GzxomKfzXW74"
      },
      "source": [
        "### **Define a model**\r\n"
      ]
    },
    {
      "cell_type": "code",
      "metadata": {
        "id": "_3VWdV64XQIw"
      },
      "source": [
        "model = Sequential([\r\n",
        "  Conv2D(filters=16, kernel_size=(3,3), activation='relu', input_shape=(28, 28, 1)),\r\n",
        "  MaxPooling2D(pool_size=(3, 3)),\r\n",
        "  Flatten(),\r\n",
        "  Dense(10, activation='softmax')\r\n",
        "])"
      ],
      "execution_count": 8,
      "outputs": []
    },
    {
      "cell_type": "code",
      "metadata": {
        "id": "qtGVVI1BX8Qk",
        "colab": {
          "base_uri": "https://localhost:8080/"
        },
        "outputId": "fd32be2b-6c37-49a9-894d-dd0bf2439e01"
      },
      "source": [
        "model.summary()"
      ],
      "execution_count": 9,
      "outputs": [
        {
          "output_type": "stream",
          "text": [
            "Model: \"sequential\"\n",
            "_________________________________________________________________\n",
            "Layer (type)                 Output Shape              Param #   \n",
            "=================================================================\n",
            "conv2d (Conv2D)              (None, 26, 26, 16)        160       \n",
            "_________________________________________________________________\n",
            "max_pooling2d (MaxPooling2D) (None, 8, 8, 16)          0         \n",
            "_________________________________________________________________\n",
            "flatten (Flatten)            (None, 1024)              0         \n",
            "_________________________________________________________________\n",
            "dense (Dense)                (None, 10)                10250     \n",
            "=================================================================\n",
            "Total params: 10,410\n",
            "Trainable params: 10,410\n",
            "Non-trainable params: 0\n",
            "_________________________________________________________________\n"
          ],
          "name": "stdout"
        }
      ]
    },
    {
      "cell_type": "markdown",
      "metadata": {
        "id": "yxXYxEr_dqGq"
      },
      "source": [
        "####**Compile Model**"
      ]
    },
    {
      "cell_type": "code",
      "metadata": {
        "id": "VRBMCfTderZe"
      },
      "source": [
        "model.compile(\r\n",
        "    optimizer=tf.keras.optimizers.Adam(learning_rate=0.005),\r\n",
        "    loss=tf.keras.losses.SparseCategoricalCrossentropy(),\r\n",
        "    metrics=[tf.keras.metrics.SparseCategoricalAccuracy(), tf.keras.metrics.MeanAbsoluteError()]\r\n",
        ")"
      ],
      "execution_count": 10,
      "outputs": []
    },
    {
      "cell_type": "code",
      "metadata": {
        "id": "7CoWoRRBsZSE",
        "colab": {
          "base_uri": "https://localhost:8080/"
        },
        "outputId": "74c3b431-581f-4a37-e5c0-32773028ae0f"
      },
      "source": [
        "print(model.optimizer)\r\n",
        "print(model.loss)\r\n",
        "print(model.metrics)"
      ],
      "execution_count": 11,
      "outputs": [
        {
          "output_type": "stream",
          "text": [
            "<tensorflow.python.keras.optimizer_v2.adam.Adam object at 0x7f3e3a1c8090>\n",
            "<tensorflow.python.keras.losses.SparseCategoricalCrossentropy object at 0x7f3dfdd4a950>\n",
            "[]\n"
          ],
          "name": "stdout"
        }
      ]
    },
    {
      "cell_type": "markdown",
      "metadata": {
        "id": "YA02AHkg4_It"
      },
      "source": [
        "####**Train Model - Fit method**"
      ]
    },
    {
      "cell_type": "markdown",
      "metadata": {
        "id": "Zpe4tnW90uXY"
      },
      "source": [
        "```\r\n",
        "Syntax:\r\n",
        "history = # the progress of the network during training (ex. loss, metrics)\r\n",
        "  model.fit(X_train,    # X_train shape (num_samples, num_features)\r\n",
        "            y_train,    # y_train shape (num_samples, num_classes)\r\n",
        "                        # for sparse_categorical: y_train shape (num_samples,) and need to use loss function sparse_categorical_crossentropy\r\n",
        "            epochs=10,  # one epoch: training passes through whole dataset,\r\n",
        "            batch_size, # batch_size: number of samples to work through before updating the internal model parameters.)\r\n",
        "```"
      ]
    },
    {
      "cell_type": "code",
      "metadata": {
        "colab": {
          "base_uri": "https://localhost:8080/"
        },
        "id": "HeyI3BOY2P-4",
        "outputId": "2d17b708-ba43-49fc-ae4e-9198d425f906"
      },
      "source": [
        "train_images.shape"
      ],
      "execution_count": 12,
      "outputs": [
        {
          "output_type": "execute_result",
          "data": {
            "text/plain": [
              "(60000, 28, 28)"
            ]
          },
          "metadata": {
            "tags": []
          },
          "execution_count": 12
        }
      ]
    },
    {
      "cell_type": "code",
      "metadata": {
        "colab": {
          "base_uri": "https://localhost:8080/"
        },
        "id": "BwkM2Ytq2Sut",
        "outputId": "188a340a-78cb-4ffd-b6a0-66956ce27ce4"
      },
      "source": [
        "train_images[..., np.newaxis]\r\n",
        "train_images.shape"
      ],
      "execution_count": 13,
      "outputs": [
        {
          "output_type": "execute_result",
          "data": {
            "text/plain": [
              "(60000, 28, 28)"
            ]
          },
          "metadata": {
            "tags": []
          },
          "execution_count": 13
        }
      ]
    },
    {
      "cell_type": "code",
      "metadata": {
        "id": "wFf4qd4vsfuI",
        "colab": {
          "base_uri": "https://localhost:8080/"
        },
        "outputId": "2056ad36-6474-4625-9edd-6197394bf09b"
      },
      "source": [
        "history = model.fit(train_images[..., np.newaxis], \r\n",
        "                    train_labels, \r\n",
        "                    epochs=8, \r\n",
        "                    batch_size=256,\r\n",
        "                    verbose=2) "
      ],
      "execution_count": 16,
      "outputs": [
        {
          "output_type": "stream",
          "text": [
            "Epoch 1/8\n",
            "235/235 - 11s - loss: 0.3462 - sparse_categorical_accuracy: 0.8765 - mean_absolute_error: 4.4200\n",
            "Epoch 2/8\n",
            "235/235 - 11s - loss: 0.3264 - sparse_categorical_accuracy: 0.8838 - mean_absolute_error: 4.4200\n",
            "Epoch 3/8\n",
            "235/235 - 11s - loss: 0.3124 - sparse_categorical_accuracy: 0.8882 - mean_absolute_error: 4.4200\n",
            "Epoch 4/8\n",
            "235/235 - 11s - loss: 0.3021 - sparse_categorical_accuracy: 0.8913 - mean_absolute_error: 4.4200\n",
            "Epoch 5/8\n",
            "235/235 - 11s - loss: 0.2921 - sparse_categorical_accuracy: 0.8960 - mean_absolute_error: 4.4200\n",
            "Epoch 6/8\n",
            "235/235 - 11s - loss: 0.2861 - sparse_categorical_accuracy: 0.8976 - mean_absolute_error: 4.4200\n",
            "Epoch 7/8\n",
            "235/235 - 11s - loss: 0.2802 - sparse_categorical_accuracy: 0.8998 - mean_absolute_error: 4.4200\n",
            "Epoch 8/8\n",
            "235/235 - 11s - loss: 0.2803 - sparse_categorical_accuracy: 0.8988 - mean_absolute_error: 4.4200\n"
          ],
          "name": "stdout"
        }
      ]
    },
    {
      "cell_type": "markdown",
      "metadata": {
        "id": "OFrx-pqA30br"
      },
      "source": [
        "**Plot training history**"
      ]
    },
    {
      "cell_type": "code",
      "metadata": {
        "colab": {
          "base_uri": "https://localhost:8080/"
        },
        "id": "qJ8omSYV4BPR",
        "outputId": "556dcbb9-aa42-4d52-df8f-4411589c30eb"
      },
      "source": [
        "type(history)"
      ],
      "execution_count": 17,
      "outputs": [
        {
          "output_type": "execute_result",
          "data": {
            "text/plain": [
              "tensorflow.python.keras.callbacks.History"
            ]
          },
          "metadata": {
            "tags": []
          },
          "execution_count": 17
        }
      ]
    },
    {
      "cell_type": "code",
      "metadata": {
        "id": "DydlpFeb4Ejy"
      },
      "source": [
        "# history.history"
      ],
      "execution_count": 19,
      "outputs": []
    },
    {
      "cell_type": "code",
      "metadata": {
        "colab": {
          "base_uri": "https://localhost:8080/",
          "height": 195
        },
        "id": "02U6-BKL3hk1",
        "outputId": "6fb11ab4-f606-432c-f020-1de8dce9adf0"
      },
      "source": [
        "df = pd.DataFrame(history.history)\r\n",
        "df.head()"
      ],
      "execution_count": 21,
      "outputs": [
        {
          "output_type": "execute_result",
          "data": {
            "text/html": [
              "<div>\n",
              "<style scoped>\n",
              "    .dataframe tbody tr th:only-of-type {\n",
              "        vertical-align: middle;\n",
              "    }\n",
              "\n",
              "    .dataframe tbody tr th {\n",
              "        vertical-align: top;\n",
              "    }\n",
              "\n",
              "    .dataframe thead th {\n",
              "        text-align: right;\n",
              "    }\n",
              "</style>\n",
              "<table border=\"1\" class=\"dataframe\">\n",
              "  <thead>\n",
              "    <tr style=\"text-align: right;\">\n",
              "      <th></th>\n",
              "      <th>loss</th>\n",
              "      <th>sparse_categorical_accuracy</th>\n",
              "      <th>mean_absolute_error</th>\n",
              "    </tr>\n",
              "  </thead>\n",
              "  <tbody>\n",
              "    <tr>\n",
              "      <th>0</th>\n",
              "      <td>0.346231</td>\n",
              "      <td>0.876500</td>\n",
              "      <td>4.420002</td>\n",
              "    </tr>\n",
              "    <tr>\n",
              "      <th>1</th>\n",
              "      <td>0.326381</td>\n",
              "      <td>0.883750</td>\n",
              "      <td>4.420000</td>\n",
              "    </tr>\n",
              "    <tr>\n",
              "      <th>2</th>\n",
              "      <td>0.312390</td>\n",
              "      <td>0.888167</td>\n",
              "      <td>4.420000</td>\n",
              "    </tr>\n",
              "    <tr>\n",
              "      <th>3</th>\n",
              "      <td>0.302140</td>\n",
              "      <td>0.891300</td>\n",
              "      <td>4.420001</td>\n",
              "    </tr>\n",
              "    <tr>\n",
              "      <th>4</th>\n",
              "      <td>0.292073</td>\n",
              "      <td>0.896000</td>\n",
              "      <td>4.420001</td>\n",
              "    </tr>\n",
              "  </tbody>\n",
              "</table>\n",
              "</div>"
            ],
            "text/plain": [
              "       loss  sparse_categorical_accuracy  mean_absolute_error\n",
              "0  0.346231                     0.876500             4.420002\n",
              "1  0.326381                     0.883750             4.420000\n",
              "2  0.312390                     0.888167             4.420000\n",
              "3  0.302140                     0.891300             4.420001\n",
              "4  0.292073                     0.896000             4.420001"
            ]
          },
          "metadata": {
            "tags": []
          },
          "execution_count": 21
        }
      ]
    },
    {
      "cell_type": "code",
      "metadata": {
        "colab": {
          "base_uri": "https://localhost:8080/",
          "height": 312
        },
        "id": "3U-g-hWi4OK0",
        "outputId": "51d88002-5dd2-4926-c822-ea68792eeb06"
      },
      "source": [
        "loss_plot = df.plot(y='loss', title='Epochs vs. Loss')\r\n",
        "loss_plot.set(xlabel=\"Epochs\", ylabel='Loss')"
      ],
      "execution_count": 22,
      "outputs": [
        {
          "output_type": "execute_result",
          "data": {
            "text/plain": [
              "[Text(0, 0.5, 'Loss'), Text(0.5, 0, 'Epochs')]"
            ]
          },
          "metadata": {
            "tags": []
          },
          "execution_count": 22
        },
        {
          "output_type": "display_data",
          "data": {
            "image/png": "[encoded data removed]",
            "text/plain": [
              "<Figure size 432x288 with 1 Axes>"
            ]
          },
          "metadata": {
            "tags": [],
            "needs_background": "light"
          }
        }
      ]
    },
    {
      "cell_type": "code",
      "metadata": {
        "id": "4DRw73BX4wz1"
      },
      "source": [
        ""
      ],
      "execution_count": null,
      "outputs": []
    }
  ]
}