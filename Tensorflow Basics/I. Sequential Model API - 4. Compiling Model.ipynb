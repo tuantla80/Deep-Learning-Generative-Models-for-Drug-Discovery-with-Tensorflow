{
  "nbformat": 4,
  "nbformat_minor": 0,
  "metadata": {
    "colab": {
      "name": "I. Sequential Model API - 4. Compiling Model.ipynb",
      "provenance": [],
      "collapsed_sections": []
    },
    "kernelspec": {
      "name": "python3",
      "display_name": "Python 3"
    }
  },
  "cells": [
    {
      "cell_type": "code",
      "metadata": {
        "colab": {
          "base_uri": "https://localhost:8080/",
          "height": 35
        },
        "id": "9jNB0DaeUyNT",
        "outputId": "0e278094-07a9-45d2-cc4c-db926ada27dd"
      },
      "source": [
        "import tensorflow as tf\r\n",
        "tf.__version__"
      ],
      "execution_count": 1,
      "outputs": [
        {
          "output_type": "execute_result",
          "data": {
            "application/vnd.google.colaboratory.intrinsic+json": {
              "type": "string"
            },
            "text/plain": [
              "'2.4.1'"
            ]
          },
          "metadata": {
            "tags": []
          },
          "execution_count": 1
        }
      ]
    },
    {
      "cell_type": "code",
      "metadata": {
        "id": "pPpvERuXXG7G"
      },
      "source": [
        "from tensorflow.keras.models import Sequential\r\n",
        "from tensorflow.keras.layers import Dense"
      ],
      "execution_count": 2,
      "outputs": []
    },
    {
      "cell_type": "markdown",
      "metadata": {
        "id": "GzxomKfzXW74"
      },
      "source": [
        "### **Define a model**\r\n"
      ]
    },
    {
      "cell_type": "code",
      "metadata": {
        "id": "_3VWdV64XQIw"
      },
      "source": [
        "model = Sequential([\r\n",
        "  Dense(64, activation='elu', input_shape=(32,)),\r\n",
        "  Dense(1, activation='sigmoid')\r\n",
        "])"
      ],
      "execution_count": 3,
      "outputs": []
    },
    {
      "cell_type": "code",
      "metadata": {
        "id": "qtGVVI1BX8Qk",
        "colab": {
          "base_uri": "https://localhost:8080/"
        },
        "outputId": "1c246f91-aa69-46d8-d2ed-9ad204799649"
      },
      "source": [
        "model.summary()"
      ],
      "execution_count": 4,
      "outputs": [
        {
          "output_type": "stream",
          "text": [
            "Model: \"sequential\"\n",
            "_________________________________________________________________\n",
            "Layer (type)                 Output Shape              Param #   \n",
            "=================================================================\n",
            "dense (Dense)                (None, 64)                2112      \n",
            "_________________________________________________________________\n",
            "dense_1 (Dense)              (None, 1)                 65        \n",
            "=================================================================\n",
            "Total params: 2,177\n",
            "Trainable params: 2,177\n",
            "Non-trainable params: 0\n",
            "_________________________________________________________________\n"
          ],
          "name": "stdout"
        }
      ]
    },
    {
      "cell_type": "markdown",
      "metadata": {
        "id": "yxXYxEr_dqGq"
      },
      "source": [
        "####**Compile Model**"
      ]
    },
    {
      "cell_type": "code",
      "metadata": {
        "id": "VRBMCfTderZe"
      },
      "source": [
        "model.compile(\r\n",
        "    optimizer='sgd',            # Stochastic Gradient Descent\r\n",
        "                                # Ex. 'adam', 'rmsprop', 'adadelta'\r\n",
        "    loss='binary_crossentropy', # loss function for this task\r\n",
        "                                # Ex. 'mean_squares_error' (regression task), 'categorical_cross_entropy'\r\n",
        "    metrics=['accuracy', 'mae'] # [optional] set of metrics to keep track as model training for each epoch\r\n",
        "                                # Ex. 'mae': mean absolute error\r\n",
        ")"
      ],
      "execution_count": 5,
      "outputs": []
    },
    {
      "cell_type": "markdown",
      "metadata": {
        "id": "pGbRG58Fp5Q5"
      },
      "source": [
        "**Instead of passing strings to input arguments, a better way is to give them by object since we can put important parameters to it**"
      ]
    },
    {
      "cell_type": "code",
      "metadata": {
        "id": "-Mu4uVQenlII"
      },
      "source": [
        "model.compile(\r\n",
        "    optimizer=tf.keras.optimizers.SGD(learning_rate=0.001, momentum=0.9, nesterov=True),\r\n",
        "    loss=tf.keras.losses.BinaryCrossentropy(from_logits=True),\r\n",
        "    metrics=[tf.keras.metrics.BinaryAccuracy(threshold=0.7), tf.keras.metrics.MeanAbsoluteError()]\r\n",
        ")"
      ],
      "execution_count": 6,
      "outputs": []
    },
    {
      "cell_type": "code",
      "metadata": {
        "colab": {
          "base_uri": "https://localhost:8080/"
        },
        "id": "GT8lAskgqNXA",
        "outputId": "595d3072-fb86-4c4c-a22a-b438e8b22a0f"
      },
      "source": [
        "model.optimizer"
      ],
      "execution_count": 7,
      "outputs": [
        {
          "output_type": "execute_result",
          "data": {
            "text/plain": [
              "<tensorflow.python.keras.optimizer_v2.gradient_descent.SGD at 0x7f10e7334c10>"
            ]
          },
          "metadata": {
            "tags": []
          },
          "execution_count": 7
        }
      ]
    },
    {
      "cell_type": "code",
      "metadata": {
        "colab": {
          "base_uri": "https://localhost:8080/"
        },
        "id": "bzgvIgAktlfp",
        "outputId": "0b1b373a-58dc-4491-94e3-ad3961172a4a"
      },
      "source": [
        "model.optimizer.lr"
      ],
      "execution_count": 8,
      "outputs": [
        {
          "output_type": "execute_result",
          "data": {
            "text/plain": [
              "<tf.Variable 'learning_rate:0' shape=() dtype=float32, numpy=0.001>"
            ]
          },
          "metadata": {
            "tags": []
          },
          "execution_count": 8
        }
      ]
    },
    {
      "cell_type": "code",
      "metadata": {
        "colab": {
          "base_uri": "https://localhost:8080/"
        },
        "id": "7CoWoRRBsZSE",
        "outputId": "620438f4-e31c-4058-a779-3ae7bcf191dd"
      },
      "source": [
        "model.loss"
      ],
      "execution_count": 9,
      "outputs": [
        {
          "output_type": "execute_result",
          "data": {
            "text/plain": [
              "<tensorflow.python.keras.losses.BinaryCrossentropy at 0x7f10e7334310>"
            ]
          },
          "metadata": {
            "tags": []
          },
          "execution_count": 9
        }
      ]
    },
    {
      "cell_type": "code",
      "metadata": {
        "colab": {
          "base_uri": "https://localhost:8080/"
        },
        "id": "FkQrVz4Msc03",
        "outputId": "aeb38873-f477-4e45-c4b4-22e1b4c64a45"
      },
      "source": [
        "print(model.metrics)"
      ],
      "execution_count": 10,
      "outputs": [
        {
          "output_type": "stream",
          "text": [
            "[]\n"
          ],
          "name": "stdout"
        }
      ]
    },
    {
      "cell_type": "code",
      "metadata": {
        "id": "wFf4qd4vsfuI"
      },
      "source": [
        ""
      ],
      "execution_count": 10,
      "outputs": []
    }
  ]
}