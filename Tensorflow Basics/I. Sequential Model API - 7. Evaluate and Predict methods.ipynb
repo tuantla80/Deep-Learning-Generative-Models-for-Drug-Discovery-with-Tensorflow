{
  "nbformat": 4,
  "nbformat_minor": 0,
  "metadata": {
    "colab": {
      "name": "I. Sequential Model API - 7. Evaluate and Predict methods.ipynb",
      "provenance": [],
      "collapsed_sections": []
    },
    "kernelspec": {
      "name": "python3",
      "display_name": "Python 3"
    }
  },
  "cells": [
    {
      "cell_type": "code",
      "metadata": {
        "colab": {
          "base_uri": "https://localhost:8080/",
          "height": 35
        },
        "id": "9jNB0DaeUyNT",
        "outputId": "6ebc2929-b581-4514-f770-8c10a1ae284b"
      },
      "source": [
        "import tensorflow as tf\r\n",
        "tf.__version__"
      ],
      "execution_count": 1,
      "outputs": [
        {
          "output_type": "execute_result",
          "data": {
            "application/vnd.google.colaboratory.intrinsic+json": {
              "type": "string"
            },
            "text/plain": [
              "'2.4.1'"
            ]
          },
          "metadata": {
            "tags": []
          },
          "execution_count": 1
        }
      ]
    },
    {
      "cell_type": "code",
      "metadata": {
        "id": "pPpvERuXXG7G"
      },
      "source": [
        "from tensorflow.keras.models import Sequential\r\n",
        "from tensorflow.keras.layers import Dense, Flatten, Conv2D, MaxPooling2D\r\n",
        "from tensorflow.keras.preprocessing import image\r\n",
        "import numpy as np\r\n",
        "import pandas as pd\r\n",
        "import matplotlib.pyplot as plt\r\n"
      ],
      "execution_count": 2,
      "outputs": []
    },
    {
      "cell_type": "markdown",
      "metadata": {
        "id": "JClP0jGa9IB5"
      },
      "source": [
        "### **Load the data**"
      ]
    },
    {
      "cell_type": "code",
      "metadata": {
        "id": "pHQ5rk9J9MbM"
      },
      "source": [
        "fashion_mnist_data = tf.keras.datasets.fashion_mnist\r\n",
        "(train_images, train_labels), (test_images, test_labels) = fashion_mnist_data.load_data()"
      ],
      "execution_count": 3,
      "outputs": []
    },
    {
      "cell_type": "code",
      "metadata": {
        "id": "NqdfSb2p9lHx",
        "colab": {
          "base_uri": "https://localhost:8080/"
        },
        "outputId": "1ef8fc29-a5ad-4a8e-8c14-5257c9da65b6"
      },
      "source": [
        "print(train_images.shape)\r\n",
        "print(train_labels.shape)\r\n",
        "print(test_images.shape)\r\n",
        "print(test_labels.shape)"
      ],
      "execution_count": 4,
      "outputs": [
        {
          "output_type": "stream",
          "text": [
            "(60000, 28, 28)\n",
            "(60000,)\n",
            "(10000, 28, 28)\n",
            "(10000,)\n"
          ],
          "name": "stdout"
        }
      ]
    },
    {
      "cell_type": "code",
      "metadata": {
        "colab": {
          "base_uri": "https://localhost:8080/"
        },
        "id": "NUjHW6blAW4o",
        "outputId": "c185ae28-46f0-4a48-f200-b6491877b0ac"
      },
      "source": [
        "labels =  ['T-shirt/top', 'Trouser', 'Pullover', 'Dress', 'Coat',\r\n",
        "               'Sandal', 'Shirt', 'Sneaker', 'Bag', 'Ankle boot']\r\n",
        "print(train_labels[0])               "
      ],
      "execution_count": 5,
      "outputs": [
        {
          "output_type": "stream",
          "text": [
            "9\n"
          ],
          "name": "stdout"
        }
      ]
    },
    {
      "cell_type": "markdown",
      "metadata": {
        "id": "qmK5KTPNAkWU"
      },
      "source": [
        "**Rescale the image values to be in range [0, 1]**"
      ]
    },
    {
      "cell_type": "code",
      "metadata": {
        "id": "wQPN_qKgAwiy"
      },
      "source": [
        "train_images = train_images / 255.\r\n",
        "test_images = test_images / 255."
      ],
      "execution_count": 6,
      "outputs": []
    },
    {
      "cell_type": "markdown",
      "metadata": {
        "id": "8GA7dcNpBNfC"
      },
      "source": [
        "**Display an image**"
      ]
    },
    {
      "cell_type": "code",
      "metadata": {
        "colab": {
          "base_uri": "https://localhost:8080/",
          "height": 282
        },
        "id": "qx8IiW3wBRAU",
        "outputId": "e0c6e92b-d579-4da8-b6f4-610e637e1f4a"
      },
      "source": [
        "i = 0\r\n",
        "img = train_images[i, :, :]\r\n",
        "plt.imshow(img)\r\n",
        "plt.show()\r\n",
        "print(f\"label: {labels[train_labels[i]]}\")"
      ],
      "execution_count": 7,
      "outputs": [
        {
          "output_type": "display_data",
          "data": {
            "image/png": "[encoded data removed]",
            "text/plain": [
              "<Figure size 432x288 with 1 Axes>"
            ]
          },
          "metadata": {
            "tags": [],
            "needs_background": "light"
          }
        },
        {
          "output_type": "stream",
          "text": [
            "label: Ankle boot\n"
          ],
          "name": "stdout"
        }
      ]
    },
    {
      "cell_type": "markdown",
      "metadata": {
        "id": "GzxomKfzXW74"
      },
      "source": [
        "### **Define a model**\r\n"
      ]
    },
    {
      "cell_type": "code",
      "metadata": {
        "id": "_3VWdV64XQIw"
      },
      "source": [
        "model = Sequential([\r\n",
        "  Conv2D(filters=16, kernel_size=(3,3), activation='relu', input_shape=(28, 28, 1)),\r\n",
        "  MaxPooling2D(pool_size=(3, 3)),\r\n",
        "  Flatten(),\r\n",
        "  Dense(10, activation='softmax')\r\n",
        "])"
      ],
      "execution_count": 8,
      "outputs": []
    },
    {
      "cell_type": "code",
      "metadata": {
        "id": "qtGVVI1BX8Qk",
        "colab": {
          "base_uri": "https://localhost:8080/"
        },
        "outputId": "f2db4171-bbe2-4df2-c38a-40f11fd8fe09"
      },
      "source": [
        "model.summary()"
      ],
      "execution_count": 9,
      "outputs": [
        {
          "output_type": "stream",
          "text": [
            "Model: \"sequential\"\n",
            "_________________________________________________________________\n",
            "Layer (type)                 Output Shape              Param #   \n",
            "=================================================================\n",
            "conv2d (Conv2D)              (None, 26, 26, 16)        160       \n",
            "_________________________________________________________________\n",
            "max_pooling2d (MaxPooling2D) (None, 8, 8, 16)          0         \n",
            "_________________________________________________________________\n",
            "flatten (Flatten)            (None, 1024)              0         \n",
            "_________________________________________________________________\n",
            "dense (Dense)                (None, 10)                10250     \n",
            "=================================================================\n",
            "Total params: 10,410\n",
            "Trainable params: 10,410\n",
            "Non-trainable params: 0\n",
            "_________________________________________________________________\n"
          ],
          "name": "stdout"
        }
      ]
    },
    {
      "cell_type": "markdown",
      "metadata": {
        "id": "yxXYxEr_dqGq"
      },
      "source": [
        "####**Compile Model**"
      ]
    },
    {
      "cell_type": "code",
      "metadata": {
        "id": "VRBMCfTderZe"
      },
      "source": [
        "model.compile(\r\n",
        "    optimizer=tf.keras.optimizers.Adam(learning_rate=0.005),\r\n",
        "    loss=tf.keras.losses.SparseCategoricalCrossentropy(),\r\n",
        "    metrics=[tf.keras.metrics.SparseCategoricalAccuracy(), tf.keras.metrics.MeanAbsoluteError()]\r\n",
        ")"
      ],
      "execution_count": 10,
      "outputs": []
    },
    {
      "cell_type": "code",
      "metadata": {
        "id": "7CoWoRRBsZSE",
        "colab": {
          "base_uri": "https://localhost:8080/"
        },
        "outputId": "a2975975-79e4-4a7c-e2fe-3c79b66a7a20"
      },
      "source": [
        "print(model.optimizer)\r\n",
        "print(model.loss)\r\n",
        "print(model.metrics)"
      ],
      "execution_count": 11,
      "outputs": [
        {
          "output_type": "stream",
          "text": [
            "<tensorflow.python.keras.optimizer_v2.adam.Adam object at 0x7f147b4dc750>\n",
            "<tensorflow.python.keras.losses.SparseCategoricalCrossentropy object at 0x7f147b4dc150>\n",
            "[]\n"
          ],
          "name": "stdout"
        }
      ]
    },
    {
      "cell_type": "markdown",
      "metadata": {
        "id": "YA02AHkg4_It"
      },
      "source": [
        "####**Train Model - Fit method**"
      ]
    },
    {
      "cell_type": "markdown",
      "metadata": {
        "id": "Zpe4tnW90uXY"
      },
      "source": [
        "```\r\n",
        "Syntax:\r\n",
        "history = # the progress of the network during training (ex. loss, metrics)\r\n",
        "  model.fit(X_train,    # X_train shape (num_samples, num_features)\r\n",
        "            y_train,    # y_train shape (num_samples, num_classes)\r\n",
        "                        # for sparse_categorical: y_train shape (num_samples,) and need to use loss function sparse_categorical_crossentropy\r\n",
        "            epochs=10,  # one epoch: training passes through whole dataset,\r\n",
        "            batch_size, # batch_size: number of samples to work through before updating the internal model parameters.)\r\n",
        "```"
      ]
    },
    {
      "cell_type": "code",
      "metadata": {
        "colab": {
          "base_uri": "https://localhost:8080/"
        },
        "id": "HeyI3BOY2P-4",
        "outputId": "564bcd82-00a6-44b4-b5ca-c7ddac342d37"
      },
      "source": [
        "train_images.shape"
      ],
      "execution_count": 12,
      "outputs": [
        {
          "output_type": "execute_result",
          "data": {
            "text/plain": [
              "(60000, 28, 28)"
            ]
          },
          "metadata": {
            "tags": []
          },
          "execution_count": 12
        }
      ]
    },
    {
      "cell_type": "code",
      "metadata": {
        "colab": {
          "base_uri": "https://localhost:8080/"
        },
        "id": "BwkM2Ytq2Sut",
        "outputId": "03c05d1f-efe2-416f-971d-5c22ad72dec2"
      },
      "source": [
        "# make a dummy dimension\r\n",
        "train_images[..., np.newaxis]\r\n",
        "train_images.shape"
      ],
      "execution_count": 13,
      "outputs": [
        {
          "output_type": "execute_result",
          "data": {
            "text/plain": [
              "(60000, 28, 28)"
            ]
          },
          "metadata": {
            "tags": []
          },
          "execution_count": 13
        }
      ]
    },
    {
      "cell_type": "code",
      "metadata": {
        "id": "wFf4qd4vsfuI",
        "colab": {
          "base_uri": "https://localhost:8080/"
        },
        "outputId": "774e801b-0836-4089-e7a8-2b0f99093fd9"
      },
      "source": [
        "history = model.fit(train_images[..., np.newaxis], \r\n",
        "                    train_labels, \r\n",
        "                    epochs=8, \r\n",
        "                    batch_size=256,\r\n",
        "                    verbose=2) "
      ],
      "execution_count": 14,
      "outputs": [
        {
          "output_type": "stream",
          "text": [
            "Epoch 1/8\n",
            "235/235 - 12s - loss: 0.5719 - sparse_categorical_accuracy: 0.7998 - mean_absolute_error: 4.4200\n",
            "Epoch 2/8\n",
            "235/235 - 11s - loss: 0.3810 - sparse_categorical_accuracy: 0.8653 - mean_absolute_error: 4.4200\n",
            "Epoch 3/8\n",
            "235/235 - 11s - loss: 0.3426 - sparse_categorical_accuracy: 0.8777 - mean_absolute_error: 4.4200\n",
            "Epoch 4/8\n",
            "235/235 - 11s - loss: 0.3202 - sparse_categorical_accuracy: 0.8863 - mean_absolute_error: 4.4200\n",
            "Epoch 5/8\n",
            "235/235 - 11s - loss: 0.3059 - sparse_categorical_accuracy: 0.8904 - mean_absolute_error: 4.4200\n",
            "Epoch 6/8\n",
            "235/235 - 11s - loss: 0.2970 - sparse_categorical_accuracy: 0.8939 - mean_absolute_error: 4.4200\n",
            "Epoch 7/8\n",
            "235/235 - 11s - loss: 0.2882 - sparse_categorical_accuracy: 0.8973 - mean_absolute_error: 4.4200\n",
            "Epoch 8/8\n",
            "235/235 - 11s - loss: 0.2829 - sparse_categorical_accuracy: 0.8984 - mean_absolute_error: 4.4200\n"
          ],
          "name": "stdout"
        }
      ]
    },
    {
      "cell_type": "markdown",
      "metadata": {
        "id": "OFrx-pqA30br"
      },
      "source": [
        "**Plot training history**"
      ]
    },
    {
      "cell_type": "code",
      "metadata": {
        "colab": {
          "base_uri": "https://localhost:8080/"
        },
        "id": "qJ8omSYV4BPR",
        "outputId": "e72bdde3-6342-4acf-a450-9985d6315706"
      },
      "source": [
        "type(history)"
      ],
      "execution_count": 15,
      "outputs": [
        {
          "output_type": "execute_result",
          "data": {
            "text/plain": [
              "tensorflow.python.keras.callbacks.History"
            ]
          },
          "metadata": {
            "tags": []
          },
          "execution_count": 15
        }
      ]
    },
    {
      "cell_type": "code",
      "metadata": {
        "id": "DydlpFeb4Ejy"
      },
      "source": [
        "# history.history"
      ],
      "execution_count": 16,
      "outputs": []
    },
    {
      "cell_type": "code",
      "metadata": {
        "colab": {
          "base_uri": "https://localhost:8080/",
          "height": 195
        },
        "id": "02U6-BKL3hk1",
        "outputId": "2f0b3192-d968-4db2-a6c1-afbd0c5fe9e4"
      },
      "source": [
        "df = pd.DataFrame(history.history)\r\n",
        "df.head()"
      ],
      "execution_count": 17,
      "outputs": [
        {
          "output_type": "execute_result",
          "data": {
            "text/html": [
              "<div>\n",
              "<style scoped>\n",
              "    .dataframe tbody tr th:only-of-type {\n",
              "        vertical-align: middle;\n",
              "    }\n",
              "\n",
              "    .dataframe tbody tr th {\n",
              "        vertical-align: top;\n",
              "    }\n",
              "\n",
              "    .dataframe thead th {\n",
              "        text-align: right;\n",
              "    }\n",
              "</style>\n",
              "<table border=\"1\" class=\"dataframe\">\n",
              "  <thead>\n",
              "    <tr style=\"text-align: right;\">\n",
              "      <th></th>\n",
              "      <th>loss</th>\n",
              "      <th>sparse_categorical_accuracy</th>\n",
              "      <th>mean_absolute_error</th>\n",
              "    </tr>\n",
              "  </thead>\n",
              "  <tbody>\n",
              "    <tr>\n",
              "      <th>0</th>\n",
              "      <td>0.571853</td>\n",
              "      <td>0.799767</td>\n",
              "      <td>4.420000</td>\n",
              "    </tr>\n",
              "    <tr>\n",
              "      <th>1</th>\n",
              "      <td>0.380982</td>\n",
              "      <td>0.865267</td>\n",
              "      <td>4.420000</td>\n",
              "    </tr>\n",
              "    <tr>\n",
              "      <th>2</th>\n",
              "      <td>0.342584</td>\n",
              "      <td>0.877750</td>\n",
              "      <td>4.420000</td>\n",
              "    </tr>\n",
              "    <tr>\n",
              "      <th>3</th>\n",
              "      <td>0.320226</td>\n",
              "      <td>0.886350</td>\n",
              "      <td>4.419999</td>\n",
              "    </tr>\n",
              "    <tr>\n",
              "      <th>4</th>\n",
              "      <td>0.305890</td>\n",
              "      <td>0.890433</td>\n",
              "      <td>4.420001</td>\n",
              "    </tr>\n",
              "  </tbody>\n",
              "</table>\n",
              "</div>"
            ],
            "text/plain": [
              "       loss  sparse_categorical_accuracy  mean_absolute_error\n",
              "0  0.571853                     0.799767             4.420000\n",
              "1  0.380982                     0.865267             4.420000\n",
              "2  0.342584                     0.877750             4.420000\n",
              "3  0.320226                     0.886350             4.419999\n",
              "4  0.305890                     0.890433             4.420001"
            ]
          },
          "metadata": {
            "tags": []
          },
          "execution_count": 17
        }
      ]
    },
    {
      "cell_type": "code",
      "metadata": {
        "colab": {
          "base_uri": "https://localhost:8080/",
          "height": 312
        },
        "id": "3U-g-hWi4OK0",
        "outputId": "0d5a3976-ffb0-45d2-affb-8fcd06551300"
      },
      "source": [
        "loss_plot = df.plot(y='loss', title='Epochs vs. Loss')\r\n",
        "loss_plot.set(xlabel=\"Epochs\", ylabel='Loss')"
      ],
      "execution_count": 18,
      "outputs": [
        {
          "output_type": "execute_result",
          "data": {
            "text/plain": [
              "[Text(0, 0.5, 'Loss'), Text(0.5, 0, 'Epochs')]"
            ]
          },
          "metadata": {
            "tags": []
          },
          "execution_count": 18
        },
        {
          "output_type": "display_data",
          "data": {
            "image/png": "[encoded data removed]",
            "text/plain": [
              "<Figure size 432x288 with 1 Axes>"
            ]
          },
          "metadata": {
            "tags": [],
            "needs_background": "light"
          }
        }
      ]
    },
    {
      "cell_type": "markdown",
      "metadata": {
        "id": "hErquzzc6Esf"
      },
      "source": [
        "####**Evaluate on test set**"
      ]
    },
    {
      "cell_type": "markdown",
      "metadata": {
        "id": "FiaiSLbj9SGv"
      },
      "source": [
        "```\r\n",
        "Syntax\r\n",
        "loss, accuracy, mae = model.evaluate(X_test, y_test)\r\n",
        "loss follow by list of metrics we defined at mode definition\r\n",
        "```"
      ]
    },
    {
      "cell_type": "code",
      "metadata": {
        "id": "4DRw73BX4wz1",
        "colab": {
          "base_uri": "https://localhost:8080/"
        },
        "outputId": "27d61392-b678-4276-8db8-8681beda13d4"
      },
      "source": [
        "test_loss, test_accuracy, test_mae = model.evaluate(test_images[..., np.newaxis], test_labels, verbose=2)"
      ],
      "execution_count": 19,
      "outputs": [
        {
          "output_type": "stream",
          "text": [
            "313/313 - 1s - loss: 0.3252 - sparse_categorical_accuracy: 0.8814 - mean_absolute_error: 4.4200\n"
          ],
          "name": "stdout"
        }
      ]
    },
    {
      "cell_type": "markdown",
      "metadata": {
        "id": "nSP_KqTj6u-u"
      },
      "source": [
        "####**Predict**"
      ]
    },
    {
      "cell_type": "markdown",
      "metadata": {
        "id": "JqvsVJUuEw5z"
      },
      "source": [
        "```\r\n",
        "Syntax:\r\n",
        "pred = model.predict(X_sample) # X_sample.shape = (num_samples, num_features)\r\n",
        "```"
      ]
    },
    {
      "cell_type": "code",
      "metadata": {
        "colab": {
          "base_uri": "https://localhost:8080/",
          "height": 282
        },
        "id": "q8F_bFm-Dq46",
        "outputId": "94d2e17c-11ee-49ff-8708-8120e785bae7"
      },
      "source": [
        "# choose an image from test set just for testing the prediction code\r\n",
        "random_idx = np.random.choice(test_images.shape[0])\r\n",
        "idx = 10\r\n",
        "\r\n",
        "test_image = test_images[idx]\r\n",
        "plt.imshow(test_image)\r\n",
        "plt.show()\r\n",
        "print(f'label = {labels[test_labels[idx]]}')"
      ],
      "execution_count": 20,
      "outputs": [
        {
          "output_type": "display_data",
          "data": {
            "image/png": "[encoded data removed]",
            "text/plain": [
              "<Figure size 432x288 with 1 Axes>"
            ]
          },
          "metadata": {
            "tags": [],
            "needs_background": "light"
          }
        },
        {
          "output_type": "stream",
          "text": [
            "label = Coat\n"
          ],
          "name": "stdout"
        }
      ]
    },
    {
      "cell_type": "code",
      "metadata": {
        "colab": {
          "base_uri": "https://localhost:8080/"
        },
        "id": "cMseF_JrFQi8",
        "outputId": "19f709a8-b1a2-49ad-8147-536a04566862"
      },
      "source": [
        "test_image.shape"
      ],
      "execution_count": 21,
      "outputs": [
        {
          "output_type": "execute_result",
          "data": {
            "text/plain": [
              "(28, 28)"
            ]
          },
          "metadata": {
            "tags": []
          },
          "execution_count": 21
        }
      ]
    },
    {
      "cell_type": "code",
      "metadata": {
        "colab": {
          "base_uri": "https://localhost:8080/"
        },
        "id": "bQSHT4nR6ytz",
        "outputId": "4364e2cc-efc7-4b29-adbf-3750f7c6cc6d"
      },
      "source": [
        "pred = model.predict(test_image[np.newaxis,..., np.newaxis])  # add np.newaxis to make dummy dimension\r\n",
        "pred"
      ],
      "execution_count": 22,
      "outputs": [
        {
          "output_type": "execute_result",
          "data": {
            "text/plain": [
              "array([[5.9775408e-05, 1.3835640e-05, 2.3934791e-02, 7.5824332e-06,\n",
              "        9.4482565e-01, 5.6357795e-08, 3.1155914e-02, 7.6016735e-11,\n",
              "        2.3383072e-06, 8.5168397e-09]], dtype=float32)"
            ]
          },
          "metadata": {
            "tags": []
          },
          "execution_count": 22
        }
      ]
    },
    {
      "cell_type": "markdown",
      "metadata": {
        "id": "nAfKhGFTFqW6"
      },
      "source": [
        "```\r\n",
        "Since we have 10 classess, the prediction show the probability of each class. We will use the np.argmax to get the index of maximum probability\r\n",
        "```"
      ]
    },
    {
      "cell_type": "code",
      "metadata": {
        "colab": {
          "base_uri": "https://localhost:8080/"
        },
        "id": "B3dQar-RF7jP",
        "outputId": "64b94573-9533-47f9-b212-309df90c3354"
      },
      "source": [
        "print(f'Mode prediction: {labels[np.argmax(pred)]}')"
      ],
      "execution_count": 23,
      "outputs": [
        {
          "output_type": "stream",
          "text": [
            "Mode prediction: Coat\n"
          ],
          "name": "stdout"
        }
      ]
    },
    {
      "cell_type": "code",
      "metadata": {
        "id": "TQ91QsLKGGZl"
      },
      "source": [
        ""
      ],
      "execution_count": 23,
      "outputs": []
    }
  ]
}