{
  "nbformat": 4,
  "nbformat_minor": 0,
  "metadata": {
    "colab": {
      "name": "I. Sequential Model API - 2. CNN.ipynb",
      "provenance": [],
      "collapsed_sections": []
    },
    "kernelspec": {
      "name": "python3",
      "display_name": "Python 3"
    }
  },
  "cells": [
    {
      "cell_type": "code",
      "metadata": {
        "colab": {
          "base_uri": "https://localhost:8080/",
          "height": 35
        },
        "id": "9jNB0DaeUyNT",
        "outputId": "46d85a04-f94d-4584-d164-da754a5c8e5d"
      },
      "source": [
        "import tensorflow as tf\r\n",
        "tf.__version__"
      ],
      "execution_count": 2,
      "outputs": [
        {
          "output_type": "execute_result",
          "data": {
            "application/vnd.google.colaboratory.intrinsic+json": {
              "type": "string"
            },
            "text/plain": [
              "'2.4.1'"
            ]
          },
          "metadata": {
            "tags": []
          },
          "execution_count": 2
        }
      ]
    },
    {
      "cell_type": "code",
      "metadata": {
        "id": "pPpvERuXXG7G"
      },
      "source": [
        "from tensorflow.keras.models import Sequential\r\n",
        "from tensorflow.keras.layers import Dense, Flatten, Conv2D, MaxPooling2D"
      ],
      "execution_count": 3,
      "outputs": []
    },
    {
      "cell_type": "markdown",
      "metadata": {
        "id": "GzxomKfzXW74"
      },
      "source": [
        "### **Define CNN model**\r\n"
      ]
    },
    {
      "cell_type": "markdown",
      "metadata": {
        "id": "u3Pv2tBEdZTI"
      },
      "source": [
        "####**VALID padding (p=0)**"
      ]
    },
    {
      "cell_type": "code",
      "metadata": {
        "id": "_3VWdV64XQIw"
      },
      "source": [
        "model = Sequential([\r\n",
        "  Conv2D(filters=16,             # number of filters\r\n",
        "         kernel_size=(3, 3),     # shape of the convolutional kernel (a window with fxf = 3x3 pixels) \r\n",
        "                                 # if kernel size is summytry, can write: kernel_size=3\r\n",
        "         activation='relu',\r\n",
        "         input_shape=(32, 32, 3) # an image n x n = 32 x 32 with 3 channels\r\n",
        "                                 # Need 3 input arguments. Ex. 32x32 with 1 channel (32, 32, 1) (NOT (32x32))\r\n",
        "                                 # Can change data_format='channel_last\" to \"channel_first\": (32x32x3) --> (3x32x32)\r\n",
        "  ), # Shape (None, 30, 30, 16): \r\n",
        "     # None: for batch_size\r\n",
        "     # 30: (n - f + 2p)/s + 1 = (32-3+2*0)/1 + 1 = 30 where p is padding (p=0 VALID padding here) and s is stride (s=1 here)\r\n",
        "     # 16: number of filters\r\n",
        "  MaxPooling2D(\r\n",
        "      pool_size=(3,3)            # pooling window size with 3x3 pixels\r\n",
        "                                 # if pooling size is the symmetry, can write: pool_size=3\r\n",
        "  ), # Shape: (None, 10, 10, 16)\r\n",
        "     # None: for batch_size\r\n",
        "     # 10: after Conv2D (30x30x16) then Pooling (3x3) --> 30/3=10 --> (10x10x16)\r\n",
        "     # 16: number of filters\r\n",
        "  Flatten(),                     # to un-roll data examples to 1D vector\r\n",
        "    # Shape: (None, 1600)\r\n",
        "    # None: for batch_size\r\n",
        "    # 1600: due to un-rolling -> (10x10x16) = 10*10*16 = 1600\r\n",
        "  Dense(64, activation='relu'),\r\n",
        "    # Shape: (None, 64)      \r\n",
        "  Dense(10, activation='softmax')\r\n",
        "    # (None, 10)      \r\n",
        "])"
      ],
      "execution_count": 9,
      "outputs": []
    },
    {
      "cell_type": "code",
      "metadata": {
        "id": "qtGVVI1BX8Qk",
        "colab": {
          "base_uri": "https://localhost:8080/"
        },
        "outputId": "92ecbbb1-95ac-4bd3-bcd3-9b038ffaf7db"
      },
      "source": [
        "model.summary()"
      ],
      "execution_count": 10,
      "outputs": [
        {
          "output_type": "stream",
          "text": [
            "Model: \"sequential_1\"\n",
            "_________________________________________________________________\n",
            "Layer (type)                 Output Shape              Param #   \n",
            "=================================================================\n",
            "conv2d_2 (Conv2D)            (None, 30, 30, 16)        448       \n",
            "_________________________________________________________________\n",
            "max_pooling2d_2 (MaxPooling2 (None, 10, 10, 16)        0         \n",
            "_________________________________________________________________\n",
            "flatten_1 (Flatten)          (None, 1600)              0         \n",
            "_________________________________________________________________\n",
            "dense_2 (Dense)              (None, 64)                102464    \n",
            "_________________________________________________________________\n",
            "dense_3 (Dense)              (None, 10)                650       \n",
            "=================================================================\n",
            "Total params: 103,562\n",
            "Trainable params: 103,562\n",
            "Non-trainable params: 0\n",
            "_________________________________________________________________\n"
          ],
          "name": "stdout"
        }
      ]
    },
    {
      "cell_type": "markdown",
      "metadata": {
        "id": "cz6mH50adk1r"
      },
      "source": [
        ""
      ]
    },
    {
      "cell_type": "markdown",
      "metadata": {
        "id": "yxXYxEr_dqGq"
      },
      "source": [
        "####**SAME padding**"
      ]
    },
    {
      "cell_type": "markdown",
      "metadata": {
        "id": "7HK3S6HndmPt"
      },
      "source": [
        ""
      ]
    },
    {
      "cell_type": "code",
      "metadata": {
        "id": "xNC0KXIMZ7nN"
      },
      "source": [
        "model = Sequential([\r\n",
        "  Conv2D(filters=16,             # number of filters\r\n",
        "         kernel_size=(3, 3),     # shape of the convolutional kernel (a window with fxf = 3x3 pixels) \r\n",
        "         padding='SAME',         # To keep size of the image is the same after Conv2D\r\n",
        "         activation='relu',\r\n",
        "         input_shape=(32, 32, 3) # an image n x n = 32 x 32 with 3 channels\r\n",
        "  ), # Shape (None, 32, 32, 16): \r\n",
        "     # None: for batch_size\r\n",
        "     # 30: (n - f + 2p)/s + 1 = (32-3+2*1)/1 + 1 = 30 where p is padding (p=1 SAME padding here) and s is stride (s=1 here)\r\n",
        "     # 16: number of filters\r\n",
        "  MaxPooling2D(\r\n",
        "      pool_size=(3,3)            # pooling window size with 3x3 pixels\r\n",
        "  ), # Shape: (None, 10, 10, 16)\r\n",
        "     # None: for batch_size\r\n",
        "     # 10: after Conv2D (32x32x16) then Pooling (3x3) --> int(32/3)=10 --> (10x10x16)\r\n",
        "     # 16: number of filters\r\n",
        "  Flatten(),                     # to un-roll data examples to 1D vector\r\n",
        "    # Shape: (None, 1600)\r\n",
        "    # None: for batch_size\r\n",
        "    # 1600: due to un-rolling -> (10x10x16) = 10*10*16 = 1600\r\n",
        "  Dense(64, activation='relu'),\r\n",
        "    # Shape: (None, 64)      \r\n",
        "  Dense(10, activation='softmax')\r\n",
        "    # (None, 10)      \r\n",
        "])"
      ],
      "execution_count": 12,
      "outputs": []
    },
    {
      "cell_type": "code",
      "metadata": {
        "colab": {
          "base_uri": "https://localhost:8080/"
        },
        "id": "7xxJGNb5epCH",
        "outputId": "42496f46-8572-4a89-e7e8-71620cb7bfc9"
      },
      "source": [
        "model.summary()"
      ],
      "execution_count": 13,
      "outputs": [
        {
          "output_type": "stream",
          "text": [
            "Model: \"sequential_2\"\n",
            "_________________________________________________________________\n",
            "Layer (type)                 Output Shape              Param #   \n",
            "=================================================================\n",
            "conv2d_3 (Conv2D)            (None, 32, 32, 16)        448       \n",
            "_________________________________________________________________\n",
            "max_pooling2d_3 (MaxPooling2 (None, 10, 10, 16)        0         \n",
            "_________________________________________________________________\n",
            "flatten_2 (Flatten)          (None, 1600)              0         \n",
            "_________________________________________________________________\n",
            "dense_4 (Dense)              (None, 64)                102464    \n",
            "_________________________________________________________________\n",
            "dense_5 (Dense)              (None, 10)                650       \n",
            "=================================================================\n",
            "Total params: 103,562\n",
            "Trainable params: 103,562\n",
            "Non-trainable params: 0\n",
            "_________________________________________________________________\n"
          ],
          "name": "stdout"
        }
      ]
    },
    {
      "cell_type": "code",
      "metadata": {
        "id": "VRBMCfTderZe"
      },
      "source": [
        ""
      ],
      "execution_count": null,
      "outputs": []
    }
  ]
}