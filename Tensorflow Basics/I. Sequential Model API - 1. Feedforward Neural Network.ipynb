{
  "nbformat": 4,
  "nbformat_minor": 0,
  "metadata": {
    "colab": {
      "name": "I. Sequential model API - 1. Feedforward Neural Network.ipynb",
      "provenance": [],
      "collapsed_sections": []
    },
    "kernelspec": {
      "name": "python3",
      "display_name": "Python 3"
    }
  },
  "cells": [
    {
      "cell_type": "code",
      "metadata": {
        "colab": {
          "base_uri": "https://localhost:8080/",
          "height": 35
        },
        "id": "Vzr5UZaLwF6n",
        "outputId": "ff40a386-503a-42b2-b317-d2a5f1bc67e6"
      },
      "source": [
        "import tensorflow as tf\r\n",
        "tf.__version__"
      ],
      "execution_count": 1,
      "outputs": [
        {
          "output_type": "execute_result",
          "data": {
            "application/vnd.google.colaboratory.intrinsic+json": {
              "type": "string"
            },
            "text/plain": [
              "'2.4.1'"
            ]
          },
          "metadata": {
            "tags": []
          },
          "execution_count": 1
        }
      ]
    },
    {
      "cell_type": "markdown",
      "metadata": {
        "id": "F4VFlvP2wK4K"
      },
      "source": [
        "##**Buiding a Sequential Feedforward Neural Network Model**"
      ]
    },
    {
      "cell_type": "code",
      "metadata": {
        "id": "7e6V8u7KwP7D"
      },
      "source": [
        "from tensorflow.keras.models import Sequential\r\n",
        "from tensorflow.keras.layers import Dense, Flatten, Softmax"
      ],
      "execution_count": 2,
      "outputs": []
    },
    {
      "cell_type": "markdown",
      "metadata": {
        "id": "QcU3cTPrxo8G"
      },
      "source": [
        "### **Define model**\r\n",
        "Feedforward NN has input shape (8x8), three hidden layers with 16 units and a final layer with 8 units"
      ]
    },
    {
      "cell_type": "code",
      "metadata": {
        "id": "JCivV2aywqNI"
      },
      "source": [
        "model = Sequential([\r\n",
        "    Flatten(input_shape=(8, 8)),   # fattern (8x8) to (64, ) vector\r\n",
        "    Dense(16, activation='relu'),  # 16 units\r\n",
        "    Dense(16, activation='relu'),  \r\n",
        "    Dense(16, activation='relu'),  \r\n",
        "    Dense(8, activation='softmax')\r\n",
        "])"
      ],
      "execution_count": 3,
      "outputs": []
    },
    {
      "cell_type": "markdown",
      "metadata": {
        "id": "MiqZ9hTNLnBS"
      },
      "source": [
        "#### Model summary"
      ]
    },
    {
      "cell_type": "code",
      "metadata": {
        "id": "K5eHsYroxdp6",
        "colab": {
          "base_uri": "https://localhost:8080/"
        },
        "outputId": "c289c44a-577e-4110-b912-d549cbb6911d"
      },
      "source": [
        "model.summary()"
      ],
      "execution_count": 4,
      "outputs": [
        {
          "output_type": "stream",
          "text": [
            "Model: \"sequential\"\n",
            "_________________________________________________________________\n",
            "Layer (type)                 Output Shape              Param #   \n",
            "=================================================================\n",
            "flatten (Flatten)            (None, 64)                0         \n",
            "_________________________________________________________________\n",
            "dense (Dense)                (None, 16)                1040      \n",
            "_________________________________________________________________\n",
            "dense_1 (Dense)              (None, 16)                272       \n",
            "_________________________________________________________________\n",
            "dense_2 (Dense)              (None, 16)                272       \n",
            "_________________________________________________________________\n",
            "dense_3 (Dense)              (None, 8)                 136       \n",
            "=================================================================\n",
            "Total params: 1,720\n",
            "Trainable params: 1,720\n",
            "Non-trainable params: 0\n",
            "_________________________________________________________________\n"
          ],
          "name": "stdout"
        }
      ]
    },
    {
      "cell_type": "markdown",
      "metadata": {
        "id": "k3qXc8JizJSs"
      },
      "source": [
        "**Ex. The shape (None, 64) where None is for batch size**"
      ]
    },
    {
      "cell_type": "markdown",
      "metadata": {
        "id": "BEOElG_6IxS6"
      },
      "source": [
        "**Calculate the trainable (learnabe) parameters**\r\n",
        "From one layer to another layer: 2 steps  \r\n",
        "(1) Step 1: z = xW + b (= W.T x + b)  \r\n",
        "(2) Step 2: a = activation_function(z)  \r\n",
        "Input: x shape (n_x, m): n_x is numbers of features (in this case n_x=64) and m is number of training examples.\r\n",
        "Weight W shape (m, n_1): n_1 is number of units in layer 1  \r\n",
        "Bias b shape (n_1, 1)\r\n",
        "So total number of trainanle parameters is:\r\n",
        "(n_x * n + n)"
      ]
    },
    {
      "cell_type": "code",
      "metadata": {
        "colab": {
          "base_uri": "https://localhost:8080/"
        },
        "id": "UXquFOwvylHK",
        "outputId": "8c266ec3-6601-4f25-e008-06414af8e876"
      },
      "source": [
        "(64*16 + 16) + (16*16 + 16) +  (16*16 + 16) + (16*8 + 8)"
      ],
      "execution_count": 5,
      "outputs": [
        {
          "output_type": "execute_result",
          "data": {
            "text/plain": [
              "1720"
            ]
          },
          "metadata": {
            "tags": []
          },
          "execution_count": 5
        }
      ]
    },
    {
      "cell_type": "markdown",
      "metadata": {
        "id": "D6bag1STLuPO"
      },
      "source": [
        "#### Weights"
      ]
    },
    {
      "cell_type": "code",
      "metadata": {
        "id": "DMJOvskkLyKZ"
      },
      "source": [
        "# model.weights"
      ],
      "execution_count": 6,
      "outputs": []
    },
    {
      "cell_type": "markdown",
      "metadata": {
        "id": "SGqxSzBLMsre"
      },
      "source": [
        "#### **We can seperate Dense and Softmax layers.**  \r\n",
        "The model below is the same as that at above"
      ]
    },
    {
      "cell_type": "code",
      "metadata": {
        "id": "JBIseiojL0-l"
      },
      "source": [
        "model = Sequential([\r\n",
        "    Flatten(input_shape=(8, 8)),   # fattern (8x8) to (64, ) vector\r\n",
        "    Dense(16, activation='relu'),  # 16 units\r\n",
        "    Dense(16, activation='relu'),  \r\n",
        "    Dense(16, activation='relu'),  \r\n",
        "    Dense(8),\r\n",
        "    Softmax()\r\n",
        "])"
      ],
      "execution_count": 7,
      "outputs": []
    },
    {
      "cell_type": "code",
      "metadata": {
        "colab": {
          "base_uri": "https://localhost:8080/"
        },
        "id": "JrCnmwsQMWgp",
        "outputId": "dad1883d-e14a-473a-8cf9-8130cc2a3ec9"
      },
      "source": [
        "model.summary()"
      ],
      "execution_count": 8,
      "outputs": [
        {
          "output_type": "stream",
          "text": [
            "Model: \"sequential_1\"\n",
            "_________________________________________________________________\n",
            "Layer (type)                 Output Shape              Param #   \n",
            "=================================================================\n",
            "flatten_1 (Flatten)          (None, 64)                0         \n",
            "_________________________________________________________________\n",
            "dense_4 (Dense)              (None, 16)                1040      \n",
            "_________________________________________________________________\n",
            "dense_5 (Dense)              (None, 16)                272       \n",
            "_________________________________________________________________\n",
            "dense_6 (Dense)              (None, 16)                272       \n",
            "_________________________________________________________________\n",
            "dense_7 (Dense)              (None, 8)                 136       \n",
            "_________________________________________________________________\n",
            "softmax (Softmax)            (None, 8)                 0         \n",
            "=================================================================\n",
            "Total params: 1,720\n",
            "Trainable params: 1,720\n",
            "Non-trainable params: 0\n",
            "_________________________________________________________________\n"
          ],
          "name": "stdout"
        }
      ]
    },
    {
      "cell_type": "markdown",
      "metadata": {
        "id": "8f8l3ctxNBUt"
      },
      "source": [
        "#### **We can define model by model.add**  \r\n",
        "The model below is the same as that at above\r\n",
        "\r\n",
        "\r\n"
      ]
    },
    {
      "cell_type": "code",
      "metadata": {
        "id": "vCaD1suKMZyZ"
      },
      "source": [
        "model = Sequential()\r\n",
        "model.add(Flatten(input_shape=(8, 8)))\r\n",
        "model.add(Dense(16, activation='relu'))\r\n",
        "model.add(Dense(16, activation='relu'))\r\n",
        "model.add(Dense(16, activation='relu'))\r\n",
        "model.add(Dense(8, activation='softmax'))"
      ],
      "execution_count": 9,
      "outputs": []
    },
    {
      "cell_type": "code",
      "metadata": {
        "colab": {
          "base_uri": "https://localhost:8080/"
        },
        "id": "HkjhvaAaPcIY",
        "outputId": "2cffeb6b-bdef-4855-c02e-4c96c5664193"
      },
      "source": [
        "model.summary()"
      ],
      "execution_count": 10,
      "outputs": [
        {
          "output_type": "stream",
          "text": [
            "Model: \"sequential_2\"\n",
            "_________________________________________________________________\n",
            "Layer (type)                 Output Shape              Param #   \n",
            "=================================================================\n",
            "flatten_2 (Flatten)          (None, 64)                0         \n",
            "_________________________________________________________________\n",
            "dense_8 (Dense)              (None, 16)                1040      \n",
            "_________________________________________________________________\n",
            "dense_9 (Dense)              (None, 16)                272       \n",
            "_________________________________________________________________\n",
            "dense_10 (Dense)             (None, 16)                272       \n",
            "_________________________________________________________________\n",
            "dense_11 (Dense)             (None, 8)                 136       \n",
            "=================================================================\n",
            "Total params: 1,720\n",
            "Trainable params: 1,720\n",
            "Non-trainable params: 0\n",
            "_________________________________________________________________\n"
          ],
          "name": "stdout"
        }
      ]
    },
    {
      "cell_type": "markdown",
      "metadata": {
        "id": "bbCono4kPRKx"
      },
      "source": [
        "#### **We also can add name of layers**  \r\n",
        "The model below is the same as that at above"
      ]
    },
    {
      "cell_type": "code",
      "metadata": {
        "id": "cgLcmoVLOdTw"
      },
      "source": [
        "model = Sequential([\r\n",
        "    Flatten(input_shape=(8, 8), name='input_layer' ),   \r\n",
        "    Dense(16, activation='relu', name='layer_1'), \r\n",
        "    Dense(16, activation='relu', name='layer_2'),  \r\n",
        "    Dense(16, activation='relu', name='layer_3'),  \r\n",
        "    Dense(8, activation='softmax', name='output_layer')\r\n",
        "])"
      ],
      "execution_count": 11,
      "outputs": []
    },
    {
      "cell_type": "code",
      "metadata": {
        "colab": {
          "base_uri": "https://localhost:8080/"
        },
        "id": "z7FacQ4SNczf",
        "outputId": "0c664590-aa02-4811-87c4-386a7d606727"
      },
      "source": [
        "model.summary()"
      ],
      "execution_count": 12,
      "outputs": [
        {
          "output_type": "stream",
          "text": [
            "Model: \"sequential_3\"\n",
            "_________________________________________________________________\n",
            "Layer (type)                 Output Shape              Param #   \n",
            "=================================================================\n",
            "input_layer (Flatten)        (None, 64)                0         \n",
            "_________________________________________________________________\n",
            "layer_1 (Dense)              (None, 16)                1040      \n",
            "_________________________________________________________________\n",
            "layer_2 (Dense)              (None, 16)                272       \n",
            "_________________________________________________________________\n",
            "layer_3 (Dense)              (None, 16)                272       \n",
            "_________________________________________________________________\n",
            "output_layer (Dense)         (None, 8)                 136       \n",
            "=================================================================\n",
            "Total params: 1,720\n",
            "Trainable params: 1,720\n",
            "Non-trainable params: 0\n",
            "_________________________________________________________________\n"
          ],
          "name": "stdout"
        }
      ]
    },
    {
      "cell_type": "code",
      "metadata": {
        "id": "Dzy9oKaMNfEu"
      },
      "source": [
        ""
      ],
      "execution_count": 12,
      "outputs": []
    }
  ]
}